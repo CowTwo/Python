{
 "cells": [
  {
   "cell_type": "code",
   "execution_count": 1,
   "metadata": {
    "collapsed": false
   },
   "outputs": [
    {
     "name": "stdout",
     "output_type": "stream",
     "text": [
      "D:/Temp/Python\\dir_1\\SamplePPTX_1.pptx\n",
      "D:/Temp/Python\\dir_1\\SamplePPTX_1.pptx.txt\n",
      "D:/Temp/Python\\dir_2\\SamplePPTX_2.pptx\n",
      "D:/Temp/Python\\dir_2\\SamplePPTX_2.pptx.txt\n",
      "done\n"
     ]
    }
   ],
   "source": [
    "\"\"\"\n",
    "Walk through root dir, Extract text from ppt and write to .ppt.txt file\n",
    "\"\"\"\n",
    "import os, time\n",
    "import os.path\n",
    "import textract\n",
    "\n",
    "searchRootDir = \"D:/Temp/Python\"\n",
    "for parent, dirnames, filenames in os.walk(searchRootDir):\n",
    "    for filename in filenames:\n",
    "        fname, fext = os.path.splitext(filename)\n",
    "        if (fext==\".pptx\"):\n",
    "            inFile=os.path.join(parent, filename)\n",
    "            outFile=inFile+\".txt\"\n",
    "            if (os.path.exists(outFile)):\n",
    "                inFileMt=os.stat(inFile).st_mtime #文件的修改时间\n",
    "                outFileMt=os.stat(outFile).st_mtime #文件的修改时间\n",
    "                if(outFileMt>inFileMt):\n",
    "                    continue\n",
    "            print(inFile)\n",
    "            text = textract.process(inFile)\n",
    "            #print(text.decode()) # 如此可正常顯示中文\n",
    "            print(outFile)\n",
    "            f = open(outFile,'w', encoding='utf-8')\n",
    "            f.write(text.decode())\n",
    "            f.close()\n",
    "print('done')"
   ]
  },
  {
   "cell_type": "code",
   "execution_count": 2,
   "metadata": {
    "collapsed": false
   },
   "outputs": [
    {
     "name": "stdout",
     "output_type": "stream",
     "text": [
      "D:/Temp/Python\\SamplePPTX.pptx.txt:   測試\n",
      "\n",
      "D:/Temp/Python\\dir_1\\SamplePPTX_1.pptx.txt:   測試\n",
      "\n",
      "D:/Temp/Python\\dir_2\\SamplePPTX_2.pptx.txt:   測試\n",
      "\n",
      "done\n"
     ]
    }
   ],
   "source": [
    "import os\n",
    "import os.path\n",
    "import re\n",
    "\n",
    "searchRootDir = \"D:/Temp/Python\"\n",
    "targetFileExt=\".txt\"    # \".*\" means for all file ext\n",
    "reSearchpattern=\"測試\"  # Search pattern in regular expression format\n",
    "\n",
    "for parent, dirnames, filenames in os.walk(searchRootDir):\n",
    "    for filename in filenames:\n",
    "        fname, fext = os.path.splitext(filename)\n",
    "        if (targetFileExt==fext or targetFileExt=='.*'):\n",
    "            inFile=os.path.join(parent, filename)\n",
    "            f = open(inFile, \"r\", encoding='utf-8')\n",
    "            for line in f:\n",
    "                if re.search(reSearchpattern, line, re.IGNORECASE):  #不分大小寫\n",
    "                    print(inFile+\":   \"+line)\n",
    "            f.close()\n",
    "print('done')"
   ]
  },
  {
   "cell_type": "code",
   "execution_count": null,
   "metadata": {
    "collapsed": true
   },
   "outputs": [],
   "source": []
  }
 ],
 "metadata": {
  "kernelspec": {
   "display_name": "Python 3",
   "language": "python",
   "name": "python3"
  },
  "language_info": {
   "codemirror_mode": {
    "name": "ipython",
    "version": 3
   },
   "file_extension": ".py",
   "mimetype": "text/x-python",
   "name": "python",
   "nbconvert_exporter": "python",
   "pygments_lexer": "ipython3",
   "version": "3.6.0"
  }
 },
 "nbformat": 4,
 "nbformat_minor": 0
}
