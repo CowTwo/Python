{
 "cells": [
  {
   "cell_type": "code",
   "execution_count": 2,
   "metadata": {
    "collapsed": false
   },
   "outputs": [
    {
     "name": "stdout",
     "output_type": "stream",
     "text": [
      "[<Video: MPEG-4 Visual (.3gp) - 144p - Simple>, <Video: MPEG-4 Visual (.3gp) - 240p - Simple>, <Video: H.264 (.mp4) - 360p - Baseline>, <Video: VP8 (.webm) - 360p - N/A>]\n",
      "https://r7---sn-ipoxu-u2xd.googlevideo.com/videoplayback?dur=263.221&lmt=1429506859515754&gir=yes&clen=12502388&ratebypass=yes&requiressl=yes&sparams=clen%2Cdur%2Cei%2Cgir%2Cid%2Cinitcwndbps%2Cip%2Cipbits%2Citag%2Clmt%2Cmime%2Cmm%2Cmn%2Cms%2Cmv%2Cpcm2cms%2Cpl%2Cratebypass%2Crequiressl%2Csource%2Cupn%2Cexpire&source=youtube&id=o-AD1BV7JYcxI293lcq8EOhzjs40ju28bMBMcj3WjjjrGl&pl=21&ms=au&mv=m&mt=1489815503&itag=18&ip=61.228.243.233&mm=31&ipbits=0&signature=99105C04BF29250B194EFCAD9EF08918C5D057B6.789B05E3007EDBFEC502DBF978350602A567B6F3&pcm2cms=yes&initcwndbps=2293750&key=yt6&mime=video%2Fmp4&mn=sn-ipoxu-u2xd&ei=KsjMWNazNMSY4gL7-pboBA&expire=1489837194&upn=fXqutthJCxM\n",
      "Download Done\n",
      "Karaoke file created, Finished\n"
     ]
    }
   ],
   "source": [
    "from pytube import YouTube\n",
    "import subprocess, os\n",
    "import shutil\n",
    "\n",
    "# Input Parameters\n",
    "yt = YouTube(\"https://www.youtube.com/watch?v=yRZAPwVuARo\")\n",
    "downloadVideoName='針線情'\n",
    "#targetDir='D:/MediaHandling/Karaoke/'\n",
    "targetDir='D:/MediaHandling/Other/'\n",
    "JsNo='JsNo201_'\n",
    "\n",
    "# Program Start\n",
    "downloadVideoFile=targetDir+'tmp/'+downloadVideoName+'.mp4'\n",
    "inpTypeNormalFile=targetDir+downloadVideoName+'_TypeNormal_.mp4'\n",
    "tmpVideoNoAudioFile=targetDir+'tmp/'+downloadVideoName+'_VideoNoAudio_.mp4'\n",
    "tmpAudioLeftAndRightFile=targetDir+'mp3/'+downloadVideoName+'_AudioLeftAndRight_.mp3'\n",
    "tmpAudioLeftForAllFile=targetDir+'tmp/'+downloadVideoName+'_AudioLeftForAll_.mp3'\n",
    "outTypeKaraokeFile=targetDir+downloadVideoName+'_TypeKaraoke_'+JsNo+'.mp4'\n",
    "\n",
    "print(yt.get_videos()) #To see how many types available for this video\n",
    "yt.set_filename(downloadVideoName)\n",
    "\n",
    "# To select a video by a specific resolution and filetype you can use the get\n",
    "# method.\n",
    "video = yt.get('mp4', '360p')\n",
    "# Print the video source url of the selected video\n",
    "print(video.url)\n",
    "\n",
    "video.download(targetDir+'tmp/')\n",
    "print(\"Download Done\")\n",
    "\n",
    "shutil.copy2(downloadVideoFile, inpTypeNormalFile)\n",
    "# 从mp4文件中提取出MP3音频\n",
    "subprocess.call(['ffmpeg','-i',inpTypeNormalFile,'-vn','-ab','128k',tmpAudioLeftAndRightFile])\n",
    "#去掉视频里的声音\n",
    "subprocess.call(['ffmpeg','-i',inpTypeNormalFile,'-an',tmpVideoNoAudioFile])\n",
    "#取用原檔案的左聲道，當作新檔案的左右聲道\n",
    "subprocess.call(['ffmpeg','-i',tmpAudioLeftAndRightFile,'-map_channel', '0.0.0','-map_channel','0.0.0',\n",
    "                 tmpAudioLeftForAllFile])\n",
    "#在無聲影片中加入音軌\n",
    "subprocess.call(['ffmpeg','-i',tmpVideoNoAudioFile,'-i',tmpAudioLeftForAllFile,'-map','0:0','-map','1:0',\n",
    "                '-codec','copy',outTypeKaraokeFile])\n",
    "\n",
    "print(\"Karaoke file created, Finished\")"
   ]
  },
  {
   "cell_type": "code",
   "execution_count": 1,
   "metadata": {
    "collapsed": false
   },
   "outputs": [
    {
     "name": "stdout",
     "output_type": "stream",
     "text": [
      "[<Video: MPEG-4 Visual (.3gp) - 144p - Simple>, <Video: MPEG-4 Visual (.3gp) - 240p - Simple>, <Video: H.264 (.mp4) - 360p - Baseline>, <Video: H.264 (.mp4) - 720p - High>, <Video: VP8 (.webm) - 360p - N/A>]\n",
      "https://r7---sn-ipoxu-u2x6.googlevideo.com/videoplayback?sparams=clen%2Cdur%2Cei%2Cgir%2Cid%2Cinitcwndbps%2Cip%2Cipbits%2Citag%2Clmt%2Cmime%2Cmm%2Cmn%2Cms%2Cmv%2Cpl%2Cratebypass%2Crequiressl%2Csource%2Cupn%2Cexpire&mv=m&mt=1489803265&ms=au&requiressl=yes&ip=61.228.243.233&lmt=1483943895771997&mn=sn-ipoxu-u2x6&mm=31&pl=21&id=o-AIxFvsCUPNrwuGQ3TrVp60JL946jc30gZxGtuZM4zVMY&upn=WWhp-vfrEWo&source=youtube&initcwndbps=2247500&ei=dJjMWOqDBMnW4AKOwIT4Cg&key=yt6&mime=video%2Fmp4&gir=yes&itag=18&clen=19769096&expire=1489824980&ratebypass=yes&dur=234.428&ipbits=0&signature=253C4C871A449CEF11FC1AA682F66A638127F610.82B34E60D0C42FA05DE71992C4A5222C7691D409\n"
     ]
    }
   ],
   "source": [
    "from pytube import YouTube\n",
    "import subprocess, os\n",
    "import shutil\n",
    "\n",
    "# Input Parameters\n",
    "yt = YouTube(\"https://www.youtube.com/watch?v=IqvOhqkURm8\")\n",
    "\n",
    "print(yt.get_videos()) #To see how many types available for this video\n",
    "\n",
    "# To select a video by a specific resolution and filetype you can use the get\n",
    "# method.\n",
    "video = yt.get('mp4', '360p')\n",
    "# Print the video source url of the selected video\n",
    "print(video.url)"
   ]
  },
  {
   "cell_type": "code",
   "execution_count": null,
   "metadata": {
    "collapsed": true
   },
   "outputs": [],
   "source": []
  }
 ],
 "metadata": {
  "anaconda-cloud": {},
  "kernelspec": {
   "display_name": "Python [Root]",
   "language": "python",
   "name": "Python [Root]"
  },
  "language_info": {
   "codemirror_mode": {
    "name": "ipython",
    "version": 3
   },
   "file_extension": ".py",
   "mimetype": "text/x-python",
   "name": "python",
   "nbconvert_exporter": "python",
   "pygments_lexer": "ipython3",
   "version": "3.5.2"
  }
 },
 "nbformat": 4,
 "nbformat_minor": 0
}
