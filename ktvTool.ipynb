{
 "cells": [
  {
   "cell_type": "code",
   "execution_count": 37,
   "metadata": {
    "collapsed": false
   },
   "outputs": [
    {
     "name": "stdout",
     "output_type": "stream",
     "text": [
      "[<Video: MPEG-4 Visual (.3gp) - 144p - Simple>, <Video: MPEG-4 Visual (.3gp) - 240p - Simple>, <Video: H.264 (.mp4) - 360p - Baseline>, <Video: H.264 (.mp4) - 720p - High>, <Video: VP8 (.webm) - 360p - N/A>]\n",
      "Download Done\n",
      "Karaoke file created, Finished\n"
     ]
    }
   ],
   "source": [
    "from pytube import YouTube\n",
    "import subprocess, os\n",
    "import shutil\n",
    "\n",
    "# Input Parameters\n",
    "yt = YouTube(\"https://www.youtube.com/watch?v=IqvOhqkURm8\")\n",
    "downloadVideoName='用心等待你'\n",
    "targetDir='D:/MediaHandling/Karaoke/'\n",
    "JsNo='JsNo190_'\n",
    "\n",
    "# Program Start\n",
    "downloadVideoFile=targetDir+downloadVideoName+'.mp4'\n",
    "inpTypeNormalFile=targetDir+downloadVideoName+'_TypeNormal_.mp4'\n",
    "tmpVideoNoAudioFile=targetDir+downloadVideoName+'_VideoNoAudio_.mp4'\n",
    "tmpAudioLeftAndRightFile=targetDir+downloadVideoName+'_AudioLeftAndRight_.mp3'\n",
    "tmpAudioLeftForAllFile=targetDir+downloadVideoName+'_AudioLeftForAll_.mp3'\n",
    "outTypeKaraokeFile=targetDir+downloadVideoName+'_TypeKaraoke_'+JsNo+'.mp4'\n",
    "\n",
    "print(yt.get_videos()) #To see how many types available for this video\n",
    "yt.set_filename(downloadVideoName)\n",
    "\n",
    "# To select a video by a specific resolution and filetype you can use the get\n",
    "# method.\n",
    "video = yt.get('mp4', '360p')\n",
    "\n",
    "video.download(targetDir)\n",
    "print(\"Download Done\")\n",
    "\n",
    "shutil.copy2(downloadVideoFile, inpTypeNormalFile)\n",
    "# 从mp4文件中提取出MP3音频\n",
    "subprocess.call(['ffmpeg','-i',inpTypeNormalFile,'-vn','-ab','128k',tmpAudioLeftAndRightFile])\n",
    "#去掉视频里的声音\n",
    "subprocess.call(['ffmpeg','-i',inpTypeNormalFile,'-an',tmpVideoNoAudioFile])\n",
    "#取用原檔案的左聲道，當作新檔案的左右聲道\n",
    "subprocess.call(['ffmpeg','-i',tmpAudioLeftAndRightFile,'-map_channel', '0.0.0','-map_channel','0.0.0',\n",
    "                 tmpAudioLeftForAllFile])\n",
    "#在無聲影片中加入音軌\n",
    "subprocess.call(['ffmpeg','-i',tmpVideoNoAudioFile,'-i',tmpAudioLeftForAllFile,'-map','0:0','-map','1:0',\n",
    "                '-codec','copy',outTypeKaraokeFile])\n",
    "\n",
    "print(\"Karaoke file created, Finished\")"
   ]
  },
  {
   "cell_type": "code",
   "execution_count": null,
   "metadata": {
    "collapsed": true
   },
   "outputs": [],
   "source": []
  }
 ],
 "metadata": {
  "kernelspec": {
   "display_name": "Python [Root]",
   "language": "python",
   "name": "Python [Root]"
  },
  "language_info": {
   "codemirror_mode": {
    "name": "ipython",
    "version": 3
   },
   "file_extension": ".py",
   "mimetype": "text/x-python",
   "name": "python",
   "nbconvert_exporter": "python",
   "pygments_lexer": "ipython3",
   "version": "3.5.2"
  }
 },
 "nbformat": 4,
 "nbformat_minor": 0
}
