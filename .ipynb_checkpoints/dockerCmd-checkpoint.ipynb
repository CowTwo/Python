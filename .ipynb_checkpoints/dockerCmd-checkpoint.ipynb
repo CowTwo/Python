{
 "cells": [
  {
   "cell_type": "code",
   "execution_count": 16,
   "metadata": {
    "collapsed": false
   },
   "outputs": [
    {
     "data": {
      "text/plain": [
       "0"
      ]
     },
     "execution_count": 16,
     "metadata": {},
     "output_type": "execute_result"
    }
   ],
   "source": [
    "\"\"\"\n",
    "查詢Local目前可用的 Docker 影像（image）\n",
    "\"\"\"\n",
    "import subprocess, os\n",
    "subprocess.call(['docker', 'images'], shell=True)"
   ]
  },
  {
   "cell_type": "code",
   "execution_count": 18,
   "metadata": {
    "collapsed": false
   },
   "outputs": [
    {
     "data": {
      "text/plain": [
       "0"
      ]
     },
     "execution_count": 18,
     "metadata": {},
     "output_type": "execute_result"
    }
   ],
   "source": [
    "\"\"\"\n",
    "執行 Docker 應用程式 friendlyhello\n",
    "這裡我們使用 -p 參數將 Docker 內部應用程式的 80 連接埠對應到 host 機器上的 4000 連接埠。\n",
    "如果想要讓 Docker 程式以背景的方式執行，可以加上 -d 參數\n",
    "docker run -d -p 4000:80 friendlyhello\n",
    "\n",
    "我們就可以開啟瀏覽器，打開本機的 4000 連接埠，連線至 Docker 中的應用程式\n",
    "http://localhost:4000\n",
    "\"\"\"\n",
    "import subprocess, os\n",
    "subprocess.call(['docker', 'run','-d','-p','4000:80','cowtwo/cowtwo-demo:part1'], shell=True)"
   ]
  },
  {
   "cell_type": "code",
   "execution_count": 14,
   "metadata": {
    "collapsed": false
   },
   "outputs": [
    {
     "data": {
      "text/plain": [
       "0"
      ]
     },
     "execution_count": 14,
     "metadata": {},
     "output_type": "execute_result"
    }
   ],
   "source": [
    "\"\"\"\n",
    "查詢目前正在執行的 Docker 應用程式\n",
    "\"\"\"\n",
    "import subprocess, os\n",
    "subprocess.call(['docker', 'ps'], shell=True)"
   ]
  },
  {
   "cell_type": "code",
   "execution_count": 15,
   "metadata": {
    "collapsed": false
   },
   "outputs": [
    {
     "data": {
      "text/plain": [
       "0"
      ]
     },
     "execution_count": 15,
     "metadata": {},
     "output_type": "execute_result"
    }
   ],
   "source": [
    "\"\"\"\n",
    "停止指定的 Docker 應用程式，則使用 docker 的 stop 指令，加上容器的 ID 即可\n",
    "\"\"\"\n",
    "import subprocess, os\n",
    "subprocess.call(['docker', 'stop','ef8189d1a58b'], shell=True)"
   ]
  },
  {
   "cell_type": "code",
   "execution_count": 7,
   "metadata": {
    "collapsed": false
   },
   "outputs": [
    {
     "data": {
      "text/plain": [
       "0"
      ]
     },
     "execution_count": 7,
     "metadata": {},
     "output_type": "execute_result"
    }
   ],
   "source": [
    "\"\"\"\n",
    "Build docker image\n",
    "-t 參數是用來指定 Docker 影像（image）的名稱\n",
    "\"\"\"\n",
    "import subprocess, os\n",
    "os.chdir('d:/docker/friendlyhello') # Switch to directory of dockerfile\n",
    "subprocess.call(\"ls\")\n",
    "subprocess.call(['docker', 'build', '-t', 'friendlyhello','.'], shell=True)"
   ]
  },
  {
   "cell_type": "code",
   "execution_count": 7,
   "metadata": {
    "collapsed": false
   },
   "outputs": [
    {
     "data": {
      "text/plain": [
       "0"
      ]
     },
     "execution_count": 7,
     "metadata": {},
     "output_type": "execute_result"
    }
   ],
   "source": [
    "\"\"\"\n",
    "刪除 Local 端的 image\n",
    "Docker rmi -f image_id\n",
    "-f 參數表示 force 刪除\n",
    "\"\"\"\n",
    "import subprocess, os\n",
    "subprocess.call(['docker', 'rmi','-f','28d7d2ceb39d'], shell=True)"
   ]
  },
  {
   "cell_type": "code",
   "execution_count": 10,
   "metadata": {
    "collapsed": false
   },
   "outputs": [
    {
     "data": {
      "text/plain": [
       "0"
      ]
     },
     "execution_count": 10,
     "metadata": {},
     "output_type": "execute_result"
    }
   ],
   "source": [
    "\"\"\"\n",
    "Pull image form docker hub\n",
    "Ex: (part1 is tag name)\n",
    "docker pull cowtwo/cowtwo-demo:part1\n",
    "\"\"\"\n",
    "import subprocess, os\n",
    "subprocess.call(['docker', 'pull','cowtwo/cowtwo-demo:part1'], shell=True)"
   ]
  },
  {
   "cell_type": "code",
   "execution_count": null,
   "metadata": {
    "collapsed": true
   },
   "outputs": [],
   "source": []
  }
 ],
 "metadata": {
  "kernelspec": {
   "display_name": "Python 3",
   "language": "python",
   "name": "python3"
  },
  "language_info": {
   "codemirror_mode": {
    "name": "ipython",
    "version": 3
   },
   "file_extension": ".py",
   "mimetype": "text/x-python",
   "name": "python",
   "nbconvert_exporter": "python",
   "pygments_lexer": "ipython3",
   "version": "3.6.0"
  }
 },
 "nbformat": 4,
 "nbformat_minor": 2
}
