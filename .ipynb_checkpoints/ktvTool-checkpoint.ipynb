{
 "cells": [
  {
   "cell_type": "code",
   "execution_count": 8,
   "metadata": {
    "collapsed": false
   },
   "outputs": [
    {
     "name": "stdout",
     "output_type": "stream",
     "text": [
      "[<Video: MPEG-4 Visual (.3gp) - 144p - Simple>, <Video: MPEG-4 Visual (.3gp) - 240p - Simple>, <Video: H.264 (.mp4) - 360p - Baseline>]\n",
      "https://r2---sn-ipoxu-u2xd.googlevideo.com/videoplayback?sparams=clen%2Cdur%2Cei%2Cgir%2Cid%2Cinitcwndbps%2Cip%2Cipbits%2Citag%2Clmt%2Cmime%2Cmm%2Cmn%2Cms%2Cmv%2Cpcm2cms%2Cpl%2Cratebypass%2Crequiressl%2Csource%2Cupn%2Cexpire&requiressl=yes&clen=13184514&lmt=1429535958397484&initcwndbps=2228750&key=yt6&ipbits=0&expire=1490036056&upn=Sfwifaouas8&itag=18&mime=video%2Fmp4&dur=213.368&pcm2cms=yes&ms=au&ei=-NDPWPPNJcaz4wL51JXYDg&id=o-ABSrdviFJ3myDVSb_BMxJam0MnP163im0ohatN-ZVUKM&pl=21&mv=m&mt=1490014348&ratebypass=yes&gir=yes&ip=61.228.243.233&mn=sn-ipoxu-u2xd&mm=31&source=youtube&signature=63158F9DF37FFDC170C037F1D8BBF9B9FB2B15D5.A1428841FA6EC67C0AC7111F56AC4BBE76145C44\n",
      "Download Done\n",
      "Karaoke file created, Finished\n"
     ]
    }
   ],
   "source": [
    "\"\"\"\n",
    "Create Both Normal and Karaoke file (左伴右唱)\n",
    "\"\"\"\n",
    "from pytube import YouTube\n",
    "import subprocess, os\n",
    "import shutil\n",
    "\n",
    "# Input Parameters\n",
    "yt = YouTube(\"https://www.youtube.com/watch?v=5oQrThlZBpo&feature=youtu.be\")\n",
    "downloadVideoName='萍水相逢的人'\n",
    "#targetDir='D:/MediaHandling/Karaoke/'\n",
    "targetDir='D:/MediaHandling/Other/'\n",
    "JsNo='JsNo212_'\n",
    "\n",
    "# Program Start\n",
    "downloadVideoFile=targetDir+'tmp/'+downloadVideoName+'.mp4'\n",
    "inpTypeNormalFile=targetDir+downloadVideoName+'_TypeNormal_.mp4'\n",
    "tmpVideoNoAudioFile=targetDir+'tmp/'+downloadVideoName+'_VideoNoAudio_.mp4'\n",
    "tmpAudioLeftAndRightFile=targetDir+'mp3/'+downloadVideoName+'_AudioLeftAndRight_.mp3'\n",
    "tmpAudioLeftForAllFile=targetDir+'tmp/'+downloadVideoName+'_AudioLeftForAll_.mp3'\n",
    "outTypeKaraokeFile=targetDir+downloadVideoName+'_TypeKaraoke_'+JsNo+'.mp4'\n",
    "\n",
    "print(yt.get_videos()) #To see how many types available for this video\n",
    "yt.set_filename(downloadVideoName)\n",
    "\n",
    "# To select a video by a specific resolution and filetype you can use the get\n",
    "# method.\n",
    "video = yt.get('mp4', '360p')\n",
    "# Print the video source url of the selected video\n",
    "print(video.url)\n",
    "\n",
    "video.download(targetDir+'tmp/')\n",
    "print(\"Download Done\")\n",
    "\n",
    "shutil.copy2(downloadVideoFile, inpTypeNormalFile)\n",
    "# 从mp4文件中提取出MP3音频\n",
    "subprocess.call(['ffmpeg','-i',inpTypeNormalFile,'-vn','-ab','128k',tmpAudioLeftAndRightFile])\n",
    "#去掉视频里的声音\n",
    "subprocess.call(['ffmpeg','-i',inpTypeNormalFile,'-an',tmpVideoNoAudioFile])\n",
    "#取用原檔案的左聲道，當作新檔案的左右聲道\n",
    "subprocess.call(['ffmpeg','-i',tmpAudioLeftAndRightFile,'-map_channel', '0.0.0','-map_channel','0.0.0',\n",
    "                 tmpAudioLeftForAllFile])\n",
    "#在無聲影片中加入音軌\n",
    "subprocess.call(['ffmpeg','-i',tmpVideoNoAudioFile,'-i',tmpAudioLeftForAllFile,'-map','0:0','-map','1:0',\n",
    "                '-codec','copy',outTypeKaraokeFile])\n",
    "\n",
    "print(\"Karaoke file created, Finished\")"
   ]
  },
  {
   "cell_type": "code",
   "execution_count": 3,
   "metadata": {
    "collapsed": false
   },
   "outputs": [
    {
     "name": "stdout",
     "output_type": "stream",
     "text": [
      "[<Video: MPEG-4 Visual (.3gp) - 144p - Simple>, <Video: MPEG-4 Visual (.3gp) - 240p - Simple>, <Video: H.264 (.mp4) - 360p - Baseline>, <Video: VP8 (.webm) - 360p - N/A>]\n",
      "https://r8---sn-ipoxu-u2xd.googlevideo.com/videoplayback?ipbits=0&upn=5UQnx0qHdls&ei=mcrPWMpCibngArifv6AI&ip=61.228.243.233&pl=21&ms=au&mv=m&mt=1490012726&signature=50F6F6FC6EDA93703B8C5A5091BF7F5F2579396F.684CE12BB6FA85A54EF0565BEAEF546999213DF5&source=youtube&initcwndbps=2257500&id=o-ANK0xGn38SOW3F8Jp9TaE28-jd2pFIBT5Op2TuAlIrYE&mn=sn-ipoxu-u2xd&gir=yes&clen=13925047&expire=1490034425&sparams=clen%2Cdur%2Cei%2Cgir%2Cid%2Cinitcwndbps%2Cip%2Cipbits%2Citag%2Clmt%2Cmime%2Cmm%2Cmn%2Cms%2Cmv%2Cpl%2Cratebypass%2Crequiressl%2Csource%2Cupn%2Cexpire&key=yt6&mime=video%2Fmp4&dur=287.880&lmt=1466232887963649&ratebypass=yes&itag=18&requiressl=yes&mm=31\n",
      "Download Done\n",
      "Karaoke file created, Finished\n"
     ]
    }
   ],
   "source": [
    "\"\"\"\n",
    "Create ONLY Karaoke file\n",
    "\"\"\"\n",
    "from pytube import YouTube\n",
    "import subprocess, os\n",
    "import shutil\n",
    "\n",
    "# Input Parameters\n",
    "yt = YouTube(\"https://www.youtube.com/watch?v=LnCaGZLUoQI&feature=youtu.be\")\n",
    "downloadVideoName='思念你的心肝你敢知'\n",
    "#targetDir='D:/MediaHandling/Karaoke/'\n",
    "targetDir='D:/MediaHandling/Other/'\n",
    "JsNo='JsNo208_'\n",
    "\n",
    "# Program Start\n",
    "downloadVideoFile=targetDir+'tmp/'+downloadVideoName+'.mp4'\n",
    "inpTypeNormalFile=targetDir+downloadVideoName+'_TypeNormal_.mp4'\n",
    "tmpVideoNoAudioFile=targetDir+'tmp/'+downloadVideoName+'_VideoNoAudio_.mp4'\n",
    "tmpAudioLeftAndRightFile=targetDir+'mp3/'+downloadVideoName+'_AudioLeftAndRight_.mp3'\n",
    "tmpAudioLeftForAllFile=targetDir+'tmp/'+downloadVideoName+'_AudioLeftForAll_.mp3'\n",
    "outTypeKaraokeFile=targetDir+downloadVideoName+'_TypeKaraoke_'+JsNo+'.mp4'\n",
    "\n",
    "print(yt.get_videos()) #To see how many types available for this video\n",
    "yt.set_filename(downloadVideoName)\n",
    "\n",
    "# To select a video by a specific resolution and filetype you can use the get\n",
    "# method.\n",
    "video = yt.get('mp4', '360p')\n",
    "# Print the video source url of the selected video\n",
    "print(video.url)\n",
    "\n",
    "video.download(targetDir+'tmp/')\n",
    "print(\"Download Done\")\n",
    "\n",
    "shutil.copy2(downloadVideoFile, outTypeKaraokeFile)\n",
    "\n",
    "print(\"Karaoke file created, Finished\")"
   ]
  },
  {
   "cell_type": "code",
   "execution_count": 9,
   "metadata": {
    "collapsed": false
   },
   "outputs": [
    {
     "name": "stdout",
     "output_type": "stream",
     "text": [
      "[<Video: MPEG-4 Visual (.3gp) - 144p - Simple>, <Video: MPEG-4 Visual (.3gp) - 240p - Simple>, <Video: H.264 (.mp4) - 360p - Baseline>, <Video: VP8 (.webm) - 360p - N/A>]\n",
      "https://r2---sn-ipoxu-u2x6.googlevideo.com/videoplayback?source=youtube&ip=61.228.243.233&ipbits=0&pl=21&mv=m&ei=vtXPWPSHGsKT4gKe8p_IAQ&ms=au&mm=31&mn=sn-ipoxu-u2x6&id=o-AHDOpwGtBv21agRdWxoe9u68gNQIj3zwV1f72eEuwrdU&clen=13868405&lmt=1389857912132085&dur=225.976&mt=1490015549&ratebypass=yes&gcr=tw&initcwndbps=2267500&requiressl=yes&mime=video%2Fmp4&gir=yes&key=yt6&upn=H042vL21L2M&itag=18&expire=1490037278&sparams=clen%2Cdur%2Cei%2Cgcr%2Cgir%2Cid%2Cinitcwndbps%2Cip%2Cipbits%2Citag%2Clmt%2Cmime%2Cmm%2Cmn%2Cms%2Cmv%2Cpl%2Cratebypass%2Crequiressl%2Csource%2Cupn%2Cexpire&signature=417BE317BF28DEF98D6E3F8CD385CD45F88CE143.0C7BD2CC0574026A202C4007B1B1BA7472FACDA8\n",
      "Download Done\n",
      "Karaoke file created, Finished\n"
     ]
    }
   ],
   "source": [
    "\"\"\"\n",
    "Create Both Normal and Karaoke file (右伴左唱)\n",
    "\"\"\"\n",
    "from pytube import YouTube\n",
    "import subprocess, os\n",
    "import shutil\n",
    "\n",
    "# Input Parameters\n",
    "yt = YouTube(\"https://www.youtube.com/watch?v=abzzinXVurM\")\n",
    "downloadVideoName='欲走還留'\n",
    "#targetDir='D:/MediaHandling/Karaoke/'\n",
    "targetDir='D:/MediaHandling/Other/'\n",
    "JsNo='JsNo213_'\n",
    "\n",
    "# Program Start\n",
    "downloadVideoFile=targetDir+'tmp/'+downloadVideoName+'.mp4'\n",
    "inpTypeNormalFile=targetDir+downloadVideoName+'_TypeNormal_.mp4'\n",
    "tmpVideoNoAudioFile=targetDir+'tmp/'+downloadVideoName+'_VideoNoAudio_.mp4'\n",
    "tmpAudioLeftAndRightFile=targetDir+'mp3/'+downloadVideoName+'_AudioLeftAndRight_.mp3'\n",
    "tmpAudioLeftForAllFile=targetDir+'tmp/'+downloadVideoName+'_AudioLeftForAll_.mp3'\n",
    "outTypeKaraokeFile=targetDir+downloadVideoName+'_TypeKaraoke_'+JsNo+'.mp4'\n",
    "\n",
    "print(yt.get_videos()) #To see how many types available for this video\n",
    "yt.set_filename(downloadVideoName)\n",
    "\n",
    "# To select a video by a specific resolution and filetype you can use the get\n",
    "# method.\n",
    "video = yt.get('mp4', '360p')\n",
    "# Print the video source url of the selected video\n",
    "print(video.url)\n",
    "\n",
    "video.download(targetDir+'tmp/')\n",
    "print(\"Download Done\")\n",
    "\n",
    "shutil.copy2(downloadVideoFile, inpTypeNormalFile)\n",
    "# 从mp4文件中提取出MP3音频\n",
    "subprocess.call(['ffmpeg','-i',inpTypeNormalFile,'-vn','-ab','128k',tmpAudioLeftAndRightFile])\n",
    "#去掉视频里的声音\n",
    "subprocess.call(['ffmpeg','-i',inpTypeNormalFile,'-an',tmpVideoNoAudioFile])\n",
    "#取用原檔案的右聲道，當作新檔案的左右聲道\n",
    "subprocess.call(['ffmpeg','-i',tmpAudioLeftAndRightFile,'-map_channel', '0.0.1','-map_channel','0.0.1',\n",
    "                 tmpAudioLeftForAllFile])\n",
    "#在無聲影片中加入音軌\n",
    "subprocess.call(['ffmpeg','-i',tmpVideoNoAudioFile,'-i',tmpAudioLeftForAllFile,'-map','0:0','-map','1:0',\n",
    "                '-codec','copy',outTypeKaraokeFile])\n",
    "\n",
    "print(\"Karaoke file created, Finished\")"
   ]
  },
  {
   "cell_type": "code",
   "execution_count": 1,
   "metadata": {
    "collapsed": false
   },
   "outputs": [
    {
     "name": "stdout",
     "output_type": "stream",
     "text": [
      "[<Video: MPEG-4 Visual (.3gp) - 144p - Simple>, <Video: MPEG-4 Visual (.3gp) - 240p - Simple>, <Video: H.264 (.mp4) - 360p - Baseline>, <Video: H.264 (.mp4) - 720p - High>, <Video: VP8 (.webm) - 360p - N/A>]\n",
      "https://r7---sn-ipoxu-u2x6.googlevideo.com/videoplayback?sparams=clen%2Cdur%2Cei%2Cgir%2Cid%2Cinitcwndbps%2Cip%2Cipbits%2Citag%2Clmt%2Cmime%2Cmm%2Cmn%2Cms%2Cmv%2Cpl%2Cratebypass%2Crequiressl%2Csource%2Cupn%2Cexpire&mv=m&mt=1489803265&ms=au&requiressl=yes&ip=61.228.243.233&lmt=1483943895771997&mn=sn-ipoxu-u2x6&mm=31&pl=21&id=o-AIxFvsCUPNrwuGQ3TrVp60JL946jc30gZxGtuZM4zVMY&upn=WWhp-vfrEWo&source=youtube&initcwndbps=2247500&ei=dJjMWOqDBMnW4AKOwIT4Cg&key=yt6&mime=video%2Fmp4&gir=yes&itag=18&clen=19769096&expire=1489824980&ratebypass=yes&dur=234.428&ipbits=0&signature=253C4C871A449CEF11FC1AA682F66A638127F610.82B34E60D0C42FA05DE71992C4A5222C7691D409\n"
     ]
    }
   ],
   "source": [
    "from pytube import YouTube\n",
    "import subprocess, os\n",
    "import shutil\n",
    "\n",
    "# Input Parameters\n",
    "yt = YouTube(\"https://www.youtube.com/watch?v=IqvOhqkURm8\")\n",
    "\n",
    "print(yt.get_videos()) #To see how many types available for this video\n",
    "\n",
    "# To select a video by a specific resolution and filetype you can use the get\n",
    "# method.\n",
    "video = yt.get('mp4', '360p')\n",
    "# Print the video source url of the selected video\n",
    "print(video.url)"
   ]
  },
  {
   "cell_type": "code",
   "execution_count": null,
   "metadata": {
    "collapsed": true
   },
   "outputs": [],
   "source": []
  }
 ],
 "metadata": {
  "anaconda-cloud": {},
  "kernelspec": {
   "display_name": "Python [Root]",
   "language": "python",
   "name": "Python [Root]"
  },
  "language_info": {
   "codemirror_mode": {
    "name": "ipython",
    "version": 3
   },
   "file_extension": ".py",
   "mimetype": "text/x-python",
   "name": "python",
   "nbconvert_exporter": "python",
   "pygments_lexer": "ipython3",
   "version": "3.5.2"
  }
 },
 "nbformat": 4,
 "nbformat_minor": 0
}
