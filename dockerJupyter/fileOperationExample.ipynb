{
 "cells": [
  {
   "cell_type": "code",
   "execution_count": 8,
   "metadata": {},
   "outputs": [
    {
     "name": "stdout",
     "output_type": "stream",
     "text": [
      "/myCode/myGithub/Python/dockerJupyter\n"
     ]
    }
   ],
   "source": [
    "\"\"\"\n",
    "Get current direcory\n",
    "\"\"\"\n",
    "import os\n",
    "\n",
    "print(os.getcwd())"
   ]
  },
  {
   "cell_type": "code",
   "execution_count": 12,
   "metadata": {},
   "outputs": [
    {
     "name": "stdout",
     "output_type": "stream",
     "text": [
      "parent is : /myCode/myGithub/Python/dockerJupyter\n",
      "\tHas folder=.ipynb_checkpoints\n",
      "\tHas folder=result\n",
      "\tHas folder=sampleTestData\n",
      "\n",
      "\n",
      "\tHas file=ktvTool.ipynb\n",
      "\tHas file=scapyExample.ipynb\n",
      "\tHas file=sampleUtility.ipynb\n",
      "\tHas file=fileOperationExample.ipynb\n",
      "parent is : /myCode/myGithub/Python/dockerJupyter/.ipynb_checkpoints\n",
      "\n",
      "\n",
      "\tHas file=scapyExample-checkpoint.ipynb\n",
      "\tHas file=sampleUtility-checkpoint.ipynb\n",
      "\tHas file=fileOperationExample-checkpoint.ipynb\n",
      "\tHas file=ktvTool-checkpoint.ipynb\n",
      "parent is : /myCode/myGithub/Python/dockerJupyter/result\n",
      "\n",
      "\n",
      "\tHas file=banana.pcap\n",
      "parent is : /myCode/myGithub/Python/dockerJupyter/sampleTestData\n",
      "\n",
      "\n",
      "\tHas file=SnapShot_enhanced.txt\n",
      "\tHas file=SamplePPTX.pptx.txt\n",
      "\tHas file=SnapShot_enhanced.png\n",
      "\tHas file=SamplePPTX.pptx\n",
      "\tHas file=SnapShot.png\n"
     ]
    }
   ],
   "source": [
    "\"\"\"\n",
    "Go through all sub-directories and files\n",
    "\"\"\"\n",
    "import os\n",
    "\n",
    "testDir=os.getcwd()\n",
    "rootdir = testDir\n",
    "for parent, dirnames, filenames in os.walk(rootdir):\n",
    "    print(\"parent is : \"+parent)\n",
    "    for dirname in dirnames:\n",
    "        print(\"\\tHas folder=%s\" %dirname)\n",
    "    print(\"\\n\")\n",
    "    for filename in filenames:\n",
    "        print(\"\\tHas file=%s\" %filename)\n"
   ]
  },
  {
   "cell_type": "code",
   "execution_count": 34,
   "metadata": {},
   "outputs": [
    {
     "name": "stdout",
     "output_type": "stream",
     "text": [
      "exForCopy.txt.bak\n",
      "exForCopy.txt\n",
      "bak\n"
     ]
    }
   ],
   "source": [
    "\"\"\"\n",
    "Extract basename, base and ext of a full-path-file\n",
    "\"\"\"\n",
    "import os\n",
    "\n",
    "testFile=testDir+\"/sampleTestData/exForCopy.txt.bak\"\n",
    "\n",
    "baseName=os.path.basename(testFile)\n",
    "print(baseName)\n",
    "base = os.path.splitext(baseName)[0]\n",
    "print(base)\n",
    "ext = os.path.splitext(baseName)[1][1:]\n",
    "print(ext)"
   ]
  },
  {
   "cell_type": "code",
   "execution_count": 36,
   "metadata": {},
   "outputs": [
    {
     "name": "stdout",
     "output_type": "stream",
     "text": [
      "/myTest/aaa.bbb\n"
     ]
    }
   ],
   "source": [
    "\"\"\"\n",
    "Concatenate path and filename into a full-path-file (auto-add-by \"/\" separator)\n",
    "\"\"\"\n",
    "\n",
    "testDir=\"/myTest\"\n",
    "testFileName=\"aaa.bbb\"\n",
    "\n",
    "fullName=os.path.join(testDir, testFileName)\n",
    "print(fullName)"
   ]
  },
  {
   "cell_type": "code",
   "execution_count": 17,
   "metadata": {},
   "outputs": [
    {
     "name": "stdout",
     "output_type": "stream",
     "text": [
      "done\n"
     ]
    }
   ],
   "source": [
    "\"\"\"\n",
    "Copy file\n",
    "\"\"\"\n",
    "import os\n",
    "import shutil\n",
    "\n",
    "testDir=os.getcwd()\n",
    "srcFile=testDir+\"/sampleTestData/exForCopy.txt\"\n",
    "destDirOrFile=srcFile+\".bak\"\n",
    "shutil.copy2(srcFile, destDirOrFile)\n",
    "print(\"done\")"
   ]
  },
  {
   "cell_type": "code",
   "execution_count": 50,
   "metadata": {},
   "outputs": [
    {
     "name": "stdout",
     "output_type": "stream",
     "text": [
      "done\n"
     ]
    }
   ],
   "source": [
    "\"\"\"\n",
    "Write file\n",
    "\"\"\"\n",
    "\n",
    "import os\n",
    "testDir=os.getcwd()\n",
    "srcFile=testDir+\"/sampleTestData/exFileReadWrite.txt\"\n",
    "f = open(srcFile,'w')  # use 'a+' for append file\n",
    "f.write('a,b,c,d,e \\n')\n",
    "f.write('1,2,3,4,5 \\n')\n",
    "f.close()\n",
    "print(\"done\")"
   ]
  },
  {
   "cell_type": "code",
   "execution_count": 53,
   "metadata": {},
   "outputs": [
    {
     "name": "stdout",
     "output_type": "stream",
     "text": [
      "a,b,c,d,e \n",
      "1,2,3,4,5 \n"
     ]
    }
   ],
   "source": [
    "\"\"\"\n",
    "Read file\n",
    "\"\"\"\n",
    "\n",
    "srcFile=os.getcwd()+\"/sampleTestData/exFileReadWrite.txt\"\n",
    "f=open(srcFile,'r')\n",
    "\n",
    "for line in f:\n",
    "    print(line, end='')"
   ]
  },
  {
   "cell_type": "code",
   "execution_count": null,
   "metadata": {},
   "outputs": [],
   "source": []
  }
 ],
 "metadata": {
  "kernelspec": {
   "display_name": "Python 3",
   "language": "python",
   "name": "python3"
  },
  "language_info": {
   "codemirror_mode": {
    "name": "ipython",
    "version": 3
   },
   "file_extension": ".py",
   "mimetype": "text/x-python",
   "name": "python",
   "nbconvert_exporter": "python",
   "pygments_lexer": "ipython3",
   "version": "3.6.2"
  }
 },
 "nbformat": 4,
 "nbformat_minor": 2
}
