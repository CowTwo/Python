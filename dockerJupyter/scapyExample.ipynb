{
 "cells": [
  {
   "cell_type": "code",
   "execution_count": 6,
   "metadata": {},
   "outputs": [
    {
     "name": "stdout",
     "output_type": "stream",
     "text": [
      "###[ IP ]###\n",
      "  version   = 4\n",
      "  ihl       = None\n",
      "  tos       = 0x0\n",
      "  len       = None\n",
      "  id        = 1\n",
      "  flags     = \n",
      "  frag      = 0\n",
      "  ttl       = 64\n",
      "  proto     = 6\n",
      "  chksum    = None\n",
      "  src       = 172.17.0.2\n",
      "  dst       = 192.168.1.2\n",
      "  \\options   \\\n",
      "###[ TCP ]###\n",
      "     sport     = 20\n",
      "     dport     = 80\n",
      "     seq       = 0\n",
      "     ack       = 0\n",
      "     dataofs   = None\n",
      "     reserved  = 0\n",
      "     flags     = S\n",
      "     window    = 8192\n",
      "     chksum    = None\n",
      "     urgptr    = 0\n",
      "     options   = {}\n",
      "###[ Raw ]###\n",
      "        load      = 'Some raw bytes'\n",
      "\n",
      "Hexdump of frame:\n",
      "0000   45 00 00 36 00 01 00 00  40 06 0D 04 AC 11 00 02   E..6....@.......\n",
      "0010   C0 A8 01 02 00 14 00 50  00 00 00 00 00 00 00 00   .......P........\n",
      "0020   50 02 20 00 DF AA 00 00  53 6F 6D 65 20 72 61 77   P. .....Some raw\n",
      "0030   20 62 79 74 65 73                                   bytes\n",
      "\n",
      "Bytes of frame:\n"
     ]
    },
    {
     "data": {
      "text/plain": [
       "b'E\\x00\\x006\\x00\\x01\\x00\\x00@\\x06\\r\\x04\\xac\\x11\\x00\\x02\\xc0\\xa8\\x01\\x02\\x00\\x14\\x00P\\x00\\x00\\x00\\x00\\x00\\x00\\x00\\x00P\\x02 \\x00\\xdf\\xaa\\x00\\x00Some raw bytes'"
      ]
     },
     "execution_count": 6,
     "metadata": {},
     "output_type": "execute_result"
    }
   ],
   "source": [
    "\"\"\"\n",
    "Basic Example\n",
    "\"\"\" \n",
    "\n",
    "from scapy.all import *\n",
    "\n",
    "# Means Raw captualed by TCP and then captulated by IP\n",
    "p = IP(dst = '192.168.1.2') / TCP(dport = 80) / Raw(b'Some raw bytes')\n",
    "# to see packet content as bytes use bytes(p) not str(p)\n",
    "#sr1(p)\n",
    "p.show()\n",
    "print(\"\\nHexdump of frame:\")\n",
    "hexdump(p)\n",
    "\n",
    "print(\"\\nBytes of frame:\")\n",
    "bytes(p)"
   ]
  },
  {
   "cell_type": "code",
   "execution_count": 5,
   "metadata": {},
   "outputs": [
    {
     "name": "stdout",
     "output_type": "stream",
     "text": [
      "###[ 802.11 ]###\n",
      "  subtype   = 8\n",
      "  type      = Management\n",
      "  proto     = 0\n",
      "  FCfield   = \n",
      "  ID        = 0\n",
      "  addr1     = ff:ff:ff:ff:ff:ff\n",
      "  addr2     = 22:22:22:22:22:22\n",
      "  addr3     = 33:33:33:33:33:33\n",
      "  SC        = 0\n",
      "  addr4     = 00:00:00:00:00:00\n",
      "  FCS       = None\n",
      "###[ 802.11 Beacon ]###\n",
      "     timestamp = 0\n",
      "     beacon_interval= 100\n",
      "     cap       = ESS+privacy\n",
      "###[ 802.11 Information Element ]###\n",
      "        ID        = SSID\n",
      "        len       = 8\n",
      "        info      = 'testSSID'\n",
      "###[ 802.11 Information Element ]###\n",
      "           ID        = RSNinfo\n",
      "           len       = None\n",
      "           info      = b'\\x01\\x00\\x00\\x0f\\xac\\x02\\x02\\x00\\x00\\x0f\\xac\\x04\\x00\\x0f\\xac\\x02\\x01\\x00\\x00\\x0f\\xac\\x02\\x00\\x00'\n",
      "\n",
      "Hexdump of frame:\n",
      "0000   80 00 00 00 FF FF FF FF  FF FF 22 22 22 22 22 22   ..........\"\"\"\"\"\"\n",
      "0010   33 33 33 33 33 33 00 00  00 00 00 00 00 00 00 00   333333..........\n",
      "0020   64 00 11 00 00 08 74 65  73 74 53 53 49 44 30 18   d.....testSSID0.\n",
      "0030   01 00 00 0F AC 02 02 00  00 0F AC 04 00 0F AC 02   ................\n",
      "0040   01 00 00 0F AC 02 00 00                            ........\n"
     ]
    }
   ],
   "source": [
    "\"\"\"\n",
    "Basic Example to generate 802.11 Beacon frame\n",
    "\"\"\"\n",
    "\n",
    "from scapy.all import Dot11,Dot11Beacon,Dot11Elt,RadioTap,sendp,hexdump\n",
    "\n",
    "netSSID = 'testSSID'       #Network name here\n",
    "\n",
    "dot11 = Dot11(type=0, subtype=8, addr1='ff:ff:ff:ff:ff:ff',\n",
    "addr2='22:22:22:22:22:22', addr3='33:33:33:33:33:33')\n",
    "beacon = Dot11Beacon(cap='ESS+privacy')\n",
    "essid = Dot11Elt(ID='SSID',info=netSSID, len=len(netSSID))\n",
    "rsn = Dot11Elt(ID='RSNinfo', info=(\n",
    "'\\x01\\x00'                 #RSN Version 1\n",
    "'\\x00\\x0f\\xac\\x02'         #Group Cipher Suite : 00-0f-ac TKIP\n",
    "'\\x02\\x00'                 #2 Pairwise Cipher Suites (next two lines)\n",
    "'\\x00\\x0f\\xac\\x04'         #AES Cipher\n",
    "'\\x00\\x0f\\xac\\x02'         #TKIP Cipher\n",
    "'\\x01\\x00'                 #1 Authentication Key Managment Suite (line below)\n",
    "'\\x00\\x0f\\xac\\x02'         #Pre-Shared Key\n",
    "'\\x00\\x00'))               #RSN Capabilities (no extra capabilities)\n",
    "\n",
    "#frame = RadioTap()/dot11/beacon/essid/rsn\n",
    "# frame encapsulation\n",
    "frame = dot11/beacon/essid/rsn\n",
    "\n",
    "frame.show()\n",
    "print(\"\\nHexdump of frame:\")\n",
    "hexdump(frame)"
   ]
  },
  {
   "cell_type": "code",
   "execution_count": 4,
   "metadata": {},
   "outputs": [
    {
     "name": "stdout",
     "output_type": "stream",
     "text": [
      "###[ 802.11 ]###\n",
      "  subtype   = 0\n",
      "  type      = Data\n",
      "  proto     = 0\n",
      "  FCfield   = to-DS+from-DS\n",
      "  ID        = 0\n",
      "  addr1     = ff:ff:ff:ff:ff:ff\n",
      "  addr2     = 22:22:22:22:22:22\n",
      "  addr3     = 33:33:33:33:33:33\n",
      "  SC        = 0\n",
      "  addr4     = 55:55:55:55:55:55\n",
      "  FCS       = None\n",
      "\n",
      "Hexdump of frame:\n",
      "0000   08 03 00 00 FF FF FF FF  FF FF 22 22 22 22 22 22   ..........\"\"\"\"\"\"\n",
      "0010   33 33 33 33 33 33 00 00  55 55 55 55 55 55         333333..UUUUUU\n"
     ]
    }
   ],
   "source": [
    "\"\"\"\n",
    "Basic Example to generate 802.11 data frame header with addr4\n",
    "\"\"\"\n",
    "from scapy.all import Dot11,Dot11Beacon,Dot11Elt,RadioTap,sendp,hexdump\n",
    "\n",
    "# To show addr4 => type=2, from-DS, to-DS all to be set\n",
    "dot11 = Dot11(type=2, subtype=0, FCfield='from-DS+to-DS', addr1='ff:ff:ff:ff:ff:ff',\n",
    "addr2='22:22:22:22:22:22', addr3='33:33:33:33:33:33', addr4='55:55:55:55:55:55')\n",
    "\n",
    "frame = dot11\n",
    "\n",
    "frame.show()\n",
    "print(\"\\nHexdump of frame:\")\n",
    "hexdump(frame)"
   ]
  },
  {
   "cell_type": "code",
   "execution_count": 8,
   "metadata": {},
   "outputs": [
    {
     "name": "stdout",
     "output_type": "stream",
     "text": [
      "###[ 802.11 ]###\n",
      "  subtype   = 0\n",
      "  type      = Management\n",
      "  proto     = 0\n",
      "  FCfield   = \n",
      "  ID        = 0\n",
      "  addr1     = 00:a0:57:98:76:54\n",
      "  addr2     = 00:a0:57:12:34:56\n",
      "  addr3     = 00:a0:57:98:76:54\n",
      "  SC        = 0\n",
      "  addr4     = 00:00:00:00:00:00\n",
      "  FCS       = None\n",
      "###[ 802.11 Association Request ]###\n",
      "     cap       = ESS+privacy\n",
      "     listen_interval= 10\n",
      "###[ 802.11 Information Element ]###\n",
      "        ID        = SSID\n",
      "        len       = None\n",
      "        info      = 'MY_BSSID'\n",
      "###[ 802.11 Rates Information Element ]###\n",
      "           ID        = 1\n",
      "           len       = 8\n",
      "           supported_rate1= 12\n",
      "           supported_rate2= 18\n",
      "           supported_rate3= 24\n",
      "           supported_rate4= 36\n",
      "           supported_rate5= 48\n",
      "           supported_rate6= 72\n",
      "           supported_rate7= 96\n",
      "           supported_rate8= 108\n"
     ]
    }
   ],
   "source": [
    "from scapy.all import *\n",
    " \n",
    "class Dot11EltRates(Packet):\n",
    "    \"\"\" Our own definition for the supported rates field \"\"\"\n",
    "    name = \"802.11 Rates Information Element\"\n",
    "    # Our Test STA supports the rates 6, 9, 12, 18, 24, 36, 48 and 54 Mbps\n",
    "    supported_rates = [0x0c, 0x12, 0x18, 0x24, 0x30, 0x48, 0x60, 0x6c]\n",
    "    fields_desc = [ByteField(\"ID\", 1), ByteField(\"len\", len(supported_rates))]\n",
    "    for index, rate in enumerate(supported_rates):\n",
    "        fields_desc.append(ByteField(\"supported_rate{0}\".format(index + 1),\n",
    "                                     rate))\n",
    " \n",
    "packet = Dot11(\n",
    "    addr1=\"00:a0:57:98:76:54\",\n",
    "    addr2=\"00:a0:57:12:34:56\",\n",
    "    addr3=\"00:a0:57:98:76:54\") / Dot11AssoReq(\n",
    "        cap=0x1100, listen_interval=0x00a) / Dot11Elt(\n",
    "            ID=0, info=\"MY_BSSID\")\n",
    "packet /= Dot11EltRates()\n",
    "#sendp(packet, iface=\"wlp0s29u1u7\")\n",
    "packet.show()"
   ]
  },
  {
   "cell_type": "code",
   "execution_count": null,
   "metadata": {},
   "outputs": [],
   "source": []
  }
 ],
 "metadata": {
  "kernelspec": {
   "display_name": "Python 3",
   "language": "python",
   "name": "python3"
  },
  "language_info": {
   "codemirror_mode": {
    "name": "ipython",
    "version": 3
   },
   "file_extension": ".py",
   "mimetype": "text/x-python",
   "name": "python",
   "nbconvert_exporter": "python",
   "pygments_lexer": "ipython3",
   "version": "3.6.2"
  }
 },
 "nbformat": 4,
 "nbformat_minor": 2
}
