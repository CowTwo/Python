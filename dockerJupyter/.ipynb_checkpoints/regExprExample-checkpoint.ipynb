{
 "cells": [
  {
   "cell_type": "code",
   "execution_count": 11,
   "metadata": {},
   "outputs": [
    {
     "name": "stdout",
     "output_type": "stream",
     "text": [
      "<1234>\n",
      "<1234>\n",
      "1234\n",
      "start index: 7\n",
      "\n",
      "\n",
      "<12345>\n",
      "<12345>\n",
      "12345\n",
      "start index: 15\n",
      "\n",
      "\n",
      "done\n"
     ]
    }
   ],
   "source": [
    "\"\"\"\n",
    "尋找 有4到5個數字 的pattern\n",
    "\"\"\"\n",
    "import re\n",
    "\n",
    "testStr=\"<123>  <1234>  <12345>  <123456>\"\n",
    "\n",
    "# 尋找 < > 內有4到5個數字 的pattern\n",
    "for m in re.finditer(\"(<(\\d{4,5})>)\", testStr):\n",
    "    print(m.group(0))\n",
    "    print(m.group(1))\n",
    "    print(m.group(2))\n",
    "    print(\"start index:\", m.start())\n",
    "    print(\"\\n\")\n",
    "\n",
    "# 通過group我們可以選擇匹配到的字符串中「需要」的部分。\n",
    "# m.group(0)即整個匹配到的字符串。\n",
    "# 而 m.group(1) 則是在()中的子字符串。\n",
    "# 相同的，如果有多個子字符串的匹配模式亦可用group(n)來取出。\n",
    "\n",
    "# m.start 表示match到的字串在filetext的起始位置\n",
    "\n",
    "print(\"done\")"
   ]
  },
  {
   "cell_type": "code",
   "execution_count": 4,
   "metadata": {},
   "outputs": [
    {
     "name": "stdout",
     "output_type": "stream",
     "text": [
      "target pattern existed\n",
      "target pattern not found\n"
     ]
    }
   ],
   "source": [
    "\"\"\"\n",
    "Check if desired pattern existed?\n",
    "\"\"\"\n",
    "\n",
    "import re\n",
    "\n",
    "testStr=\"<123>  <1234>  <12345>  <123456>\"\n",
    "if (re.search(\"(\\d{4,5})\", testStr)):\n",
    "    print(\"case1: target pattern existed\")\n",
    "\n",
    "testStr=\"<123>\"\n",
    "if (re.search(\"(\\d{4,5})\", testStr)):\n",
    "    print(\"case2: target pattern existed\")\n",
    "else:\n",
    "    print(\"case2: target pattern not found\")"
   ]
  },
  {
   "cell_type": "code",
   "execution_count": 18,
   "metadata": {},
   "outputs": [
    {
     "name": "stdout",
     "output_type": "stream",
     "text": [
      "100f00ba\n"
     ]
    }
   ],
   "source": [
    "\"\"\"\n",
    "Search for hex-num pattern\n",
    "\"\"\"\n",
    "import re\n",
    "\n",
    "reHexNum=\"([0-9a-fA-F]+)\"\n",
    "\n",
    "testStr=\"Mem[0x100f00ba]\"\n",
    "\n",
    "for m in re.finditer(\"Mem\\[0x\"+reHexNum, testStr):\n",
    "    print(m.group(1))"
   ]
  },
  {
   "cell_type": "code",
   "execution_count": 16,
   "metadata": {},
   "outputs": [
    {
     "name": "stdout",
     "output_type": "stream",
     "text": [
      "012345\n"
     ]
    }
   ],
   "source": [
    "\"\"\"\n",
    "Search for dec-num pattern\n",
    "\"\"\"\n",
    "import re\n",
    "\n",
    "reDecNum=\"([0-9]+)\"\n",
    "\n",
    "testStr=\"The number is: 012345\"\n",
    "\n",
    "for m in re.finditer(reDecNum, testStr):\n",
    "    print(m.group(1))"
   ]
  },
  {
   "cell_type": "code",
   "execution_count": 20,
   "metadata": {},
   "outputs": [
    {
     "name": "stdout",
     "output_type": "stream",
     "text": [
      "this is a test\n"
     ]
    }
   ],
   "source": [
    "\"\"\"\n",
    "Extract string enclosed by a symbol\n",
    "\"\"\"\n",
    "\n",
    "import re\n",
    "\n",
    "testStr=\"<this is a test>\"\n",
    "reAnyStr=\"(.*)\"\n",
    "for m in re.finditer(\"<\"+reAnyStr+\">\", testStr):\n",
    "    print(m.group(1))"
   ]
  },
  {
   "cell_type": "code",
   "execution_count": null,
   "metadata": {},
   "outputs": [],
   "source": [
    "\"\"\"\n",
    "Other expression\n",
    "\"\"\"\n",
    "\n",
    "([^0-9]+)            =>  非數字字串"
   ]
  }
 ],
 "metadata": {
  "kernelspec": {
   "display_name": "Python 3",
   "language": "python",
   "name": "python3"
  },
  "language_info": {
   "codemirror_mode": {
    "name": "ipython",
    "version": 3
   },
   "file_extension": ".py",
   "mimetype": "text/x-python",
   "name": "python",
   "nbconvert_exporter": "python",
   "pygments_lexer": "ipython3",
   "version": "3.6.2"
  }
 },
 "nbformat": 4,
 "nbformat_minor": 2
}
