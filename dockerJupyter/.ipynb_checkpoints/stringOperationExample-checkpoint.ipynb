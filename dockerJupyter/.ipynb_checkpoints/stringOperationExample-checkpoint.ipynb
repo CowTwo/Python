{
 "cells": [
  {
   "cell_type": "code",
   "execution_count": 8,
   "metadata": {},
   "outputs": [
    {
     "name": "stdout",
     "output_type": "stream",
     "text": [
      "  aaabcdeaa  \n",
      "aaabcdeaa\n",
      "*****target******\n",
      "target\n"
     ]
    }
   ],
   "source": [
    "\"\"\"\n",
    "Strip head and tail of a string by specified char (default is \"space\")\n",
    "\"\"\"\n",
    "\n",
    "testStr1=\"  aaabcdeaa  \"\n",
    "print(testStr1)\n",
    "print(testStr1.strip())\n",
    "\n",
    "testStr2=\"*****target******\"\n",
    "print(testStr2)\n",
    "print(testStr2.strip('*'))"
   ]
  },
  {
   "cell_type": "code",
   "execution_count": 4,
   "metadata": {},
   "outputs": [
    {
     "name": "stdout",
     "output_type": "stream",
     "text": [
      "012345678\n",
      "012345678\n",
      "12345678\n",
      "23456789abcdef\n"
     ]
    }
   ],
   "source": [
    "\"\"\"\n",
    "Extract number-indexed among a string\n",
    "\"\"\"\n",
    "\n",
    "testStr=\"0123456789abcdef\"\n",
    "print(testStr[0:9])\n",
    "print(testStr[:9])\n",
    "\n",
    "print(testStr[1:9])\n",
    "\n",
    "print(testStr[2:])"
   ]
  },
  {
   "cell_type": "code",
   "execution_count": 14,
   "metadata": {},
   "outputs": [
    {
     "name": "stdout",
     "output_type": "stream",
     "text": [
      "many\n",
      "fancy\n",
      "word\n",
      "hello\n",
      "hi\n"
     ]
    }
   ],
   "source": [
    "\"\"\" \n",
    "Separate to sub-string by space \n",
    "\"\"\"\n",
    "import re\n",
    "str1 = \"many   fancy word \\nhello    \\thi\"\n",
    "print(re.split('\\s+', str1)[0])\n",
    "print(re.split('\\s+', str1)[1])\n",
    "print(re.split('\\s+', str1)[2])\n",
    "print(re.split('\\s+', str1)[3])\n",
    "print(re.split('\\s+', str1)[4])"
   ]
  },
  {
   "cell_type": "code",
   "execution_count": 15,
   "metadata": {},
   "outputs": [
    {
     "name": "stdout",
     "output_type": "stream",
     "text": [
      "found\n"
     ]
    }
   ],
   "source": [
    "\"\"\"\n",
    "Check 字串內 是否含有某子字串\n",
    "\"\"\"\n",
    "\n",
    "teststr=\"This is a test\"\n",
    "if (teststr.find('Thi')!=-1):\n",
    "    print('found')\n",
    "else:\n",
    "    print('Not Found')"
   ]
  },
  {
   "cell_type": "code",
   "execution_count": 10,
   "metadata": {},
   "outputs": [
    {
     "name": "stdout",
     "output_type": "stream",
     "text": [
      "abcdefghi\n"
     ]
    }
   ],
   "source": [
    "\"\"\"\n",
    "Concatenate strings\n",
    "\"\"\"\n",
    "\n",
    "testStr1=\"abc\"\n",
    "testStr2=\"def\"\n",
    "testStr3=\"ghi\"\n",
    "print(testStr1+testStr2+testStr3)"
   ]
  },
  {
   "cell_type": "code",
   "execution_count": 13,
   "metadata": {},
   "outputs": [
    {
     "name": "stdout",
     "output_type": "stream",
     "text": [
      "case sensitive: Not same\n",
      "case insensitive: same\n"
     ]
    }
   ],
   "source": [
    "\"\"\"\n",
    "Compare string \n",
    "\"\"\"\n",
    "\n",
    "testStr1=\"ABC\"\n",
    "testStr2=\"abc\"\n",
    "\n",
    "if testStr1==testStr2:\n",
    "\tprint(\"case sensitive: same\")\n",
    "else:\n",
    "\tprint(\"case sensitive: Not same\")\n",
    "    \n",
    "\n",
    "if str.lower(testStr1)==str.lower(testStr2):\n",
    "\tprint(\"case insensitive: same\")\n",
    "else:\n",
    "\tprint(\"case insensitive: Not same\")\n"
   ]
  },
  {
   "cell_type": "code",
   "execution_count": 20,
   "metadata": {},
   "outputs": [
    {
     "name": "stdout",
     "output_type": "stream",
     "text": [
      "0f0c\n",
      "0510\n",
      "1.502800\n"
     ]
    }
   ],
   "source": [
    "\"\"\"\n",
    "String to int, hex, float\n",
    "\"\"\"\n",
    "\n",
    "# Hex string to integer\n",
    "testStr=\"0f0c\"\n",
    "print(\"%04x\" %int(testStr,16))\n",
    "# Dec string to integer\n",
    "testStr=\"0510\"\n",
    "print(\"%04d\" %int(testStr))\n",
    "# Dec string to float\n",
    "testStr=\"1.5028\"\n",
    "print(\"%f\" %float(testStr))"
   ]
  },
  {
   "cell_type": "code",
   "execution_count": null,
   "metadata": {},
   "outputs": [],
   "source": []
  }
 ],
 "metadata": {
  "kernelspec": {
   "display_name": "Python 3",
   "language": "python",
   "name": "python3"
  },
  "language_info": {
   "codemirror_mode": {
    "name": "ipython",
    "version": 3
   },
   "file_extension": ".py",
   "mimetype": "text/x-python",
   "name": "python",
   "nbconvert_exporter": "python",
   "pygments_lexer": "ipython3",
   "version": "3.6.2"
  }
 },
 "nbformat": 4,
 "nbformat_minor": 2
}
