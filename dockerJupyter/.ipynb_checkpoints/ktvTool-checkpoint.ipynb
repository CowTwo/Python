{
 "cells": [
  {
   "cell_type": "code",
   "execution_count": 1,
   "metadata": {},
   "outputs": [
    {
     "ename": "ModuleNotFoundError",
     "evalue": "No module named 'pytube'",
     "output_type": "error",
     "traceback": [
      "\u001b[0;31m---------------------------------------------------------------------------\u001b[0m",
      "\u001b[0;31mModuleNotFoundError\u001b[0m                       Traceback (most recent call last)",
      "\u001b[0;32m<ipython-input-1-7d86400ddebb>\u001b[0m in \u001b[0;36m<module>\u001b[0;34m()\u001b[0m\n\u001b[1;32m      2\u001b[0m \u001b[0mRetrieve\u001b[0m \u001b[0mmp3\u001b[0m \u001b[0mfile\u001b[0m \u001b[0;32mfrom\u001b[0m \u001b[0myoutube\u001b[0m\u001b[0;34m\u001b[0m\u001b[0m\n\u001b[1;32m      3\u001b[0m \"\"\"\n\u001b[0;32m----> 4\u001b[0;31m \u001b[0;32mfrom\u001b[0m \u001b[0mpytube\u001b[0m \u001b[0;32mimport\u001b[0m \u001b[0mYouTube\u001b[0m\u001b[0;34m\u001b[0m\u001b[0m\n\u001b[0m\u001b[1;32m      5\u001b[0m \u001b[0;32mimport\u001b[0m \u001b[0msubprocess\u001b[0m\u001b[0;34m,\u001b[0m \u001b[0mos\u001b[0m\u001b[0;34m\u001b[0m\u001b[0m\n\u001b[1;32m      6\u001b[0m \u001b[0;32mimport\u001b[0m \u001b[0mshutil\u001b[0m\u001b[0;34m\u001b[0m\u001b[0m\n",
      "\u001b[0;31mModuleNotFoundError\u001b[0m: No module named 'pytube'"
     ]
    }
   ],
   "source": [
    "\"\"\"\n",
    "Retrieve mp3 file from youtube\n",
    "\"\"\"\n",
    "from pytube import YouTube\n",
    "import subprocess, os\n",
    "import shutil\n",
    "\n",
    "sourcefromyoutube=[\n",
    "\"https://youtu.be/9bZkp7q19f0\", \"Korea\"\n",
    "]\n",
    "\n",
    "for n in range(0,len(sourcefromyoutube),+2):\n",
    "    # Input Parameters\n",
    "    yt = YouTube(sourcefromyoutube[n])\n",
    "    downloadVideoName=sourcefromyoutube[n+1]\n",
    "    targetDir='/work/MediaHandling/Karaoke/'\n",
    "    #targetDir='D:/MediaHandling/Other/'\n",
    "\n",
    "    # Program Start\n",
    "    downloadVideoFile=targetDir+'tmp/'+downloadVideoName+'.mp4'\n",
    "    outputmp3File=targetDir+'mp3/'+downloadVideoName+'.mp3'\n",
    "    \n",
    "    # Skip Check (for existed file)\n",
    "    if os.path.exists(downloadVideoFile):\n",
    "        continue\n",
    "        #os.remove(downloadVideoFile)\n",
    "    if os.path.exists(outputmp3File):\n",
    "        continue\n",
    "        #os.remove(outputmp3File)\n",
    "\n",
    "    print(yt.get_videos()) #To see how many types available for this video\n",
    "    yt.set_filename(downloadVideoName)\n",
    "\n",
    "    # To select a video by a specific resolution and filetype you can use the get\n",
    "    # method.\n",
    "    video = yt.get('mp4', '360p')\n",
    "    # Print the video source url of the selected video\n",
    "    print(video.url)\n",
    "\n",
    "    video.download(targetDir+'tmp/')\n",
    "    print(\"Download Done\")\n",
    "\n",
    "    # 从mp4文件中提取出MP3音频\n",
    "    subprocess.call(['ffmpeg','-i',downloadVideoFile,'-vn','-ab','128k',outputmp3File])\n",
    "\n",
    "    print(\"MP3 file created, Finished\")\n",
    "print(\"All Done\")"
   ]
  },
  {
   "cell_type": "code",
   "execution_count": null,
   "metadata": {},
   "outputs": [],
   "source": []
  }
 ],
 "metadata": {
  "anaconda-cloud": {},
  "kernelspec": {
   "display_name": "Python 3",
   "language": "python",
   "name": "python3"
  },
  "language_info": {
   "codemirror_mode": {
    "name": "ipython",
    "version": 3
   },
   "file_extension": ".py",
   "mimetype": "text/x-python",
   "name": "python",
   "nbconvert_exporter": "python",
   "pygments_lexer": "ipython3",
   "version": "3.6.2"
  }
 },
 "nbformat": 4,
 "nbformat_minor": 1
}
