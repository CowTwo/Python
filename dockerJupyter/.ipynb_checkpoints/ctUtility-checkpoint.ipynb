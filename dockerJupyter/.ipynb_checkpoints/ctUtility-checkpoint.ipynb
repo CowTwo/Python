{
 "cells": [
  {
   "cell_type": "code",
   "execution_count": 15,
   "metadata": {},
   "outputs": [
    {
     "name": "stdout",
     "output_type": "stream",
     "text": [
      "b'Sample PowerPoint File\\n\\nSt. Cloud Technical College\\n\\nThis is a Sample Slide\\n\\nHere is an outline of bulleted points\\n\\nYou can print out PPT files as handouts using the \\n\\nPRINT > \\n\\n  PRINT WHAT >  HANDOUTS option\\n\\n\\xe6\\xb8\\xac\\xe8\\xa9\\xa6\\n\\n\\xe7\\x9c\\x9f\\xe5\\xa5\\xbd\\xe7\\x8e\\xa9'\n",
      "Sample PowerPoint File\n",
      "\n",
      "St. Cloud Technical College\n",
      "\n",
      "This is a Sample Slide\n",
      "\n",
      "Here is an outline of bulleted points\n",
      "\n",
      "You can print out PPT files as handouts using the \n",
      "\n",
      "PRINT > \n",
      "\n",
      "  PRINT WHAT >  HANDOUTS option\n",
      "\n",
      "測試\n",
      "\n",
      "真好玩\n",
      "done\n"
     ]
    }
   ],
   "source": [
    "\"\"\"\n",
    "Extract text from ppt\n",
    "\"\"\"\n",
    "import os\n",
    "import os.path\n",
    "import textract\n",
    "text = textract.process(os.getcwd()+\"/sampleTestData/SamplePPTX.pptx\")\n",
    "print(text)\n",
    "print(text.decode()) # 如此可正常顯示中文\n",
    "f = open(os.getcwd()+'/sampleTestData/SamplePPTX.pptx.txt','w')\n",
    "f.write(text.decode())\n",
    "f.close()\n",
    "print(\"done\")"
   ]
  },
  {
   "cell_type": "code",
   "execution_count": 5,
   "metadata": {},
   "outputs": [
    {
     "name": "stdout",
     "output_type": "stream",
     "text": [
      "inImgSize=927,350\n",
      "enhancedImgSize=1854,700\n",
      "Done\n"
     ]
    }
   ],
   "source": [
    "\"\"\"\n",
    "Image processing and OCR the image\n",
    "\"\"\"\n",
    "from PIL import Image\n",
    "import subprocess, os\n",
    "\n",
    "inImgName=os.getcwd()+\"/sampleTestData/SnapShot\"\n",
    "inImgFile=inImgName+'.png'\n",
    "rescaleFactor=2.0\n",
    "enhancedImgFile=inImgName+'_enhanced.png'\n",
    "recognizedFile=inImgName+'_enhanced' # tesseract will add .txt extention automatically\n",
    "\n",
    "img = Image.open(inImgFile)\n",
    "print('inImgSize='+str(img.size[0])+','+str(img.size[1]))\n",
    "\n",
    "img_resized = img.resize((int(img.size[0]*rescaleFactor), int(img.size[1]*rescaleFactor)), Image.ANTIALIAS)\n",
    "img_resized.save(enhancedImgFile, \"PNG\")\n",
    "print('enhancedImgSize='+str(img_resized.size[0])+','+str(img_resized.size[1]))\n",
    "\n",
    "subprocess.call(['tesseract', enhancedImgFile, recognizedFile,'-psm','4','-l','eng+chi_tra']) # 1st Best for code recognition\n",
    "\n",
    "print('Done')\n"
   ]
  },
  {
   "cell_type": "code",
   "execution_count": 8,
   "metadata": {},
   "outputs": [
    {
     "name": "stdout",
     "output_type": "stream",
     "text": [
      "0x04\n",
      "0x03\n",
      "0x01\n",
      "0x1111\n"
     ]
    }
   ],
   "source": [
    "\"\"\"\n",
    "Bitwise operation\n",
    "\"\"\"\n",
    "x = 1        # 0001\n",
    "print(\"0x%02x\" %(x << 2))       # Shift left 2 bits: 0100\n",
    "# Result: 4\n",
    "\n",
    "print(\"0x%02x\" %(x | 2))        # Bitwise OR: 0011\n",
    "\n",
    "# Result: 3\n",
    "\n",
    "print(\"0x%02x\" %(x & 1))        # Bitwise AND: 0001\n",
    "# Result: 1\n",
    "\n",
    "# XOR\n",
    "print(\"0x%02x\" %(0x1011^0x0100))  # XOR operation"
   ]
  },
  {
   "cell_type": "code",
   "execution_count": 11,
   "metadata": {},
   "outputs": [
    {
     "name": "stdout",
     "output_type": "stream",
     "text": [
      "0x08,0x02,0x0a,\n"
     ]
    }
   ],
   "source": [
    "\"\"\"\n",
    "For Angel's brother\n",
    "\"\"\"\n",
    "# RF ON command\n",
    "# input parameter\n",
    "addr=1\n",
    "datalen=0\n",
    "command=2\n",
    "data=[]\n",
    "# output byte stream\n",
    "out=[((addr<<3)|datalen)&0xff, command]\n",
    "checksum=out[0]\n",
    "print(\"0x%02x,\" %out[0], end='')\n",
    "for n in range(1,len(out),+1):\n",
    "\tchecksum=checksum^out[n]\n",
    "\tprint(\"0x%02x,\" %out[n], end='')\n",
    "print(\"0x%02x,\" %checksum)"
   ]
  },
  {
   "cell_type": "code",
   "execution_count": 12,
   "metadata": {},
   "outputs": [
    {
     "name": "stdout",
     "output_type": "stream",
     "text": [
      "0x08,0x01,0x09,\n"
     ]
    }
   ],
   "source": [
    "\"\"\"\n",
    "For Angel's brother\n",
    "\"\"\"\n",
    "# RF OFF command\n",
    "# input parameter\n",
    "addr=1\n",
    "datalen=0\n",
    "command=1\n",
    "data=[]\n",
    "# output byte stream\n",
    "out=[((addr<<3)|datalen)&0xff, command]\n",
    "checksum=out[0]\n",
    "print(\"0x%02x,\" %out[0], end='')\n",
    "for n in range(1,len(out),+1):\n",
    "\tchecksum=checksum^out[n]\n",
    "\tprint(\"0x%02x,\" %out[n], end='')\n",
    "print(\"0x%02x,\" %checksum)"
   ]
  },
  {
   "cell_type": "code",
   "execution_count": 10,
   "metadata": {},
   "outputs": [
    {
     "name": "stdout",
     "output_type": "stream",
     "text": [
      "0x0a,0x06,0x64,0x00,0x68,\n"
     ]
    }
   ],
   "source": [
    "\"\"\"\n",
    "For Angel's brother\n",
    "\"\"\"\n",
    "\n",
    "# Test vector command\n",
    "# input parameter\n",
    "addr=1\n",
    "datalen=2\n",
    "command=0x06\n",
    "data=[0x64, 0x00]\n",
    "# output byte stream\n",
    "out=[((addr<<3)|datalen)&0xff, command, data[0], data[1]]\n",
    "checksum=out[0]\n",
    "print(\"0x%02x,\" %out[0], end='')\n",
    "for n in range(1,len(out),+1):\n",
    "\tchecksum=checksum^out[n]\n",
    "\tprint(\"0x%02x,\" %out[n], end='')\n",
    "print(\"0x%02x,\" %checksum)"
   ]
  },
  {
   "cell_type": "code",
   "execution_count": null,
   "metadata": {},
   "outputs": [],
   "source": []
  }
 ],
 "metadata": {
  "celltoolbar": "Raw Cell Format",
  "kernelspec": {
   "display_name": "Python 3",
   "language": "python",
   "name": "python3"
  },
  "language_info": {
   "codemirror_mode": {
    "name": "ipython",
    "version": 3
   },
   "file_extension": ".py",
   "mimetype": "text/x-python",
   "name": "python",
   "nbconvert_exporter": "python",
   "pygments_lexer": "ipython3",
   "version": "3.6.2"
  }
 },
 "nbformat": 4,
 "nbformat_minor": 2
}
