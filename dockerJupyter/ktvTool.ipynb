{
 "cells": [
  {
   "cell_type": "code",
   "execution_count": 3,
   "metadata": {},
   "outputs": [
    {
     "name": "stdout",
     "output_type": "stream",
     "text": [
      "[<Video: MPEG-4 Visual (.3gp) - 144p - Simple>, <Video: MPEG-4 Visual (.3gp) - 240p - Simple>, <Video: H.264 (.mp4) - 360p - Baseline>, <Video: H.264 (.mp4) - 720p - High>, <Video: VP8 (.webm) - 360p - N/A>]\n",
      "https://r8---sn-ipoxu-u2xd.googlevideo.com/videoplayback?requiressl=yes&mime=video%2Fmp4&source=youtube&c=WEB&gir=yes&dur=252.261&lmt=1509073008181583&key=yt6&ipbits=0&initcwndbps=796250&ratebypass=yes&id=o-AKK-IUia5JlkSYk8ygcTCwYZ9rDZQzwMRRC1PtGfmipx&fvip=3&clen=22512734&sparams=clen%2Cdur%2Cei%2Cgir%2Cid%2Cinitcwndbps%2Cip%2Cipbits%2Citag%2Clmt%2Cmime%2Cmm%2Cmn%2Cms%2Cmv%2Cpl%2Cratebypass%2Crequiressl%2Csource%2Cexpire&ip=114.44.79.20&ei=nOm8Wo2nHIXa4wLzgbboAQ&ms=au%2Crdu&mt=1522329895&itag=18&mv=m&pl=20&mn=sn-ipoxu-u2xd%2Csn-un57sn7s&mm=31%2C29&expire=1522351612&signature=8FBA6EE2CE16CE71EE9B59422222199BD415895E.40835FBCDEE3AEEC49A98DEC07DD82494532D727\n",
      "Download Done\n",
      "MP3 file created, Finished\n",
      "All Done\n"
     ]
    }
   ],
   "source": [
    "\"\"\"\n",
    "Retrieve mp3 file from youtube\n",
    "\"\"\"\n",
    "from pytube import YouTube\n",
    "import subprocess, os\n",
    "import shutil\n",
    "\n",
    "sourcefromyoutube=[\n",
    "\"https://youtu.be/9bZkp7q19f0\", \"Korea_1\"\n",
    "]\n",
    "\n",
    "for n in range(0,len(sourcefromyoutube),+2):\n",
    "    # Input Parameters\n",
    "    yt = YouTube(sourcefromyoutube[n])\n",
    "    downloadVideoName=sourcefromyoutube[n+1]\n",
    "    targetDir='/tmp/'\n",
    "    #targetDir='D:/MediaHandling/Other/'\n",
    "\n",
    "    # Program Start\n",
    "    downloadVideoFile=targetDir+'tmp/'+downloadVideoName+'.mp4'\n",
    "    outputmp3File=targetDir+'mp3/'+downloadVideoName+'.mp3'\n",
    "    \n",
    "    # Skip Check (for existed file)\n",
    "    if os.path.exists(downloadVideoFile):\n",
    "        continue\n",
    "        #os.remove(downloadVideoFile)\n",
    "    if os.path.exists(outputmp3File):\n",
    "        continue\n",
    "        #os.remove(outputmp3File)\n",
    "\n",
    "    print(yt.get_videos()) #To see how many types available for this video\n",
    "    yt.set_filename(downloadVideoName)\n",
    "\n",
    "    # To select a video by a specific resolution and filetype you can use the get\n",
    "    # method.\n",
    "    video = yt.get('mp4', '360p')\n",
    "    # Print the video source url of the selected video\n",
    "    print(video.url)\n",
    "\n",
    "    video.download(targetDir+'tmp/')\n",
    "    print(\"Download Done\")\n",
    "\n",
    "    # 从mp4文件中提取出MP3音频\n",
    "    subprocess.call(['ffmpeg','-i',downloadVideoFile,'-vn','-ab','128k',outputmp3File])\n",
    "\n",
    "    print(\"MP3 file created, Finished\")\n",
    "print(\"All Done\")"
   ]
  },
  {
   "cell_type": "code",
   "execution_count": null,
   "metadata": {},
   "outputs": [],
   "source": []
  }
 ],
 "metadata": {
  "anaconda-cloud": {},
  "kernelspec": {
   "display_name": "Python 3",
   "language": "python",
   "name": "python3"
  },
  "language_info": {
   "codemirror_mode": {
    "name": "ipython",
    "version": 3
   },
   "file_extension": ".py",
   "mimetype": "text/x-python",
   "name": "python",
   "nbconvert_exporter": "python",
   "pygments_lexer": "ipython3",
   "version": "3.6.2"
  }
 },
 "nbformat": 4,
 "nbformat_minor": 1
}
