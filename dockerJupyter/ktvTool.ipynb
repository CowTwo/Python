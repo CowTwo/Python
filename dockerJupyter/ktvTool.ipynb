{
 "cells": [
  {
   "cell_type": "code",
   "execution_count": 1,
   "metadata": {},
   "outputs": [
    {
     "name": "stdout",
     "output_type": "stream",
     "text": [
      "[<Video: MPEG-4 Visual (.3gp) - 144p - Simple>, <Video: MPEG-4 Visual (.3gp) - 240p - Simple>, <Video: H.264 (.mp4) - 360p - Baseline>, <Video: H.264 (.mp4) - 720p - High>, <Video: VP8 (.webm) - 360p - N/A>]\n",
      "https://r8---sn-ipoxu-u2xd.googlevideo.com/videoplayback?expire=1513957087&itag=18&mime=video%2Fmp4&ratebypass=yes&pl=22&ip=36.228.68.101&ms=au&ei=f9I8WryZDIe94gLjiLygCg&mv=m&mt=1513935365&id=o-ADTwyUMA4jtxief-tIpYiLN1bh9Md1_qAd71zuSaoB5d&mn=sn-ipoxu-u2xd&mm=31&pcm2cms=yes&clen=22512734&sparams=clen%2Cdur%2Cei%2Cgir%2Cid%2Cinitcwndbps%2Cip%2Cipbits%2Citag%2Clmt%2Cmime%2Cmm%2Cmn%2Cms%2Cmv%2Cpcm2cms%2Cpl%2Cratebypass%2Crequiressl%2Csource%2Cexpire&ipbits=0&initcwndbps=913750&requiressl=yes&lmt=1509073008181583&dur=252.261&source=youtube&key=yt6&gir=yes&signature=45CEAF29F2B8B33807881DCEE205EE776E304E2D.6814D9D7E13ADDF9E8DE60D1C4A4E4F70299B8E6\n",
      "Download Done\n",
      "MP3 file created, Finished\n",
      "All Done\n"
     ]
    }
   ],
   "source": [
    "\"\"\"\n",
    "Retrieve mp3 file from youtube\n",
    "\"\"\"\n",
    "from pytube import YouTube\n",
    "import subprocess, os\n",
    "import shutil\n",
    "\n",
    "sourcefromyoutube=[\n",
    "\"https://youtu.be/9bZkp7q19f0\", \"Korea_1\"\n",
    "]\n",
    "\n",
    "for n in range(0,len(sourcefromyoutube),+2):\n",
    "    # Input Parameters\n",
    "    yt = YouTube(sourcefromyoutube[n])\n",
    "    downloadVideoName=sourcefromyoutube[n+1]\n",
    "    targetDir='/work/MediaHandling/Karaoke/'\n",
    "    #targetDir='D:/MediaHandling/Other/'\n",
    "\n",
    "    # Program Start\n",
    "    downloadVideoFile=targetDir+'tmp/'+downloadVideoName+'.mp4'\n",
    "    outputmp3File=targetDir+'mp3/'+downloadVideoName+'.mp3'\n",
    "    \n",
    "    # Skip Check (for existed file)\n",
    "    if os.path.exists(downloadVideoFile):\n",
    "        continue\n",
    "        #os.remove(downloadVideoFile)\n",
    "    if os.path.exists(outputmp3File):\n",
    "        continue\n",
    "        #os.remove(outputmp3File)\n",
    "\n",
    "    print(yt.get_videos()) #To see how many types available for this video\n",
    "    yt.set_filename(downloadVideoName)\n",
    "\n",
    "    # To select a video by a specific resolution and filetype you can use the get\n",
    "    # method.\n",
    "    video = yt.get('mp4', '360p')\n",
    "    # Print the video source url of the selected video\n",
    "    print(video.url)\n",
    "\n",
    "    video.download(targetDir+'tmp/')\n",
    "    print(\"Download Done\")\n",
    "\n",
    "    # 从mp4文件中提取出MP3音频\n",
    "    subprocess.call(['ffmpeg','-i',downloadVideoFile,'-vn','-ab','128k',outputmp3File])\n",
    "\n",
    "    print(\"MP3 file created, Finished\")\n",
    "print(\"All Done\")"
   ]
  },
  {
   "cell_type": "code",
   "execution_count": null,
   "metadata": {},
   "outputs": [],
   "source": []
  }
 ],
 "metadata": {
  "anaconda-cloud": {},
  "kernelspec": {
   "display_name": "Python 3",
   "language": "python",
   "name": "python3"
  },
  "language_info": {
   "codemirror_mode": {
    "name": "ipython",
    "version": 3
   },
   "file_extension": ".py",
   "mimetype": "text/x-python",
   "name": "python",
   "nbconvert_exporter": "python",
   "pygments_lexer": "ipython3",
   "version": "3.6.2"
  }
 },
 "nbformat": 4,
 "nbformat_minor": 1
}
