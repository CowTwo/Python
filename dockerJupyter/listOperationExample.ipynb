{
 "cells": [
  {
   "cell_type": "code",
   "execution_count": 8,
   "metadata": {},
   "outputs": [
    {
     "name": "stdout",
     "output_type": "stream",
     "text": [
      "item0\n",
      "item1\n",
      "item2\n",
      "item3\n",
      "item4\n",
      "item5\n",
      "item6\n",
      "item7\n",
      "item8\n",
      "item9\n",
      "done\n"
     ]
    }
   ],
   "source": [
    "\"\"\"\n",
    "Basic list operation\n",
    "\"\"\"\n",
    "# list initialization\n",
    "#testList=[\"itemnull\"]  # list initialization with 1 element\n",
    "testList=[]  # list initialization with null\n",
    "\n",
    "# append element\n",
    "for i in range(0,10,+1):\n",
    "    testList.append(\"item\"+str(i))\n",
    "    \n",
    "# trace over all element in list\n",
    "for n in range(0,len(testList),+1):\n",
    "    print(testList[n])\n",
    "\n",
    "print(\"done\")"
   ]
  },
  {
   "cell_type": "code",
   "execution_count": null,
   "metadata": {},
   "outputs": [],
   "source": []
  }
 ],
 "metadata": {
  "kernelspec": {
   "display_name": "Python 3",
   "language": "python",
   "name": "python3"
  },
  "language_info": {
   "codemirror_mode": {
    "name": "ipython",
    "version": 3
   },
   "file_extension": ".py",
   "mimetype": "text/x-python",
   "name": "python",
   "nbconvert_exporter": "python",
   "pygments_lexer": "ipython3",
   "version": "3.6.2"
  }
 },
 "nbformat": 4,
 "nbformat_minor": 2
}
