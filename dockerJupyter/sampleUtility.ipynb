{
 "cells": [
  {
   "cell_type": "code",
   "execution_count": 16,
   "metadata": {},
   "outputs": [
    {
     "name": "stdout",
     "output_type": "stream",
     "text": [
      "b'Sample PowerPoint File\\n\\nSt. Cloud Technical College\\n\\nThis is a Sample Slide\\n\\nHere is an outline of bulleted points\\n\\nYou can print out PPT files as handouts using the \\n\\nPRINT > \\n\\n  PRINT WHAT >  HANDOUTS option\\n\\n\\xe6\\xb8\\xac\\xe8\\xa9\\xa6\\n\\n\\xe7\\x9c\\x9f\\xe5\\xa5\\xbd\\xe7\\x8e\\xa9'\n",
      "Sample PowerPoint File\n",
      "\n",
      "St. Cloud Technical College\n",
      "\n",
      "This is a Sample Slide\n",
      "\n",
      "Here is an outline of bulleted points\n",
      "\n",
      "You can print out PPT files as handouts using the \n",
      "\n",
      "PRINT > \n",
      "\n",
      "  PRINT WHAT >  HANDOUTS option\n",
      "\n",
      "測試\n",
      "\n",
      "真好玩\n",
      "done\n"
     ]
    }
   ],
   "source": [
    "\"\"\"\n",
    "Extract text from ppt\n",
    "\"\"\"\n",
    "import os\n",
    "import os.path\n",
    "import textract\n",
    "text = textract.process(\"/winDiskD/Python/dockerJupyter/sampleTestData/SamplePPTX.pptx\")\n",
    "print(text)\n",
    "print(text.decode()) # 如此可正常顯示中文\n",
    "f = open('/winDiskD/Python/dockerJupyter/sampleTestData/SamplePPTX.pptx.txt','w')\n",
    "f.write(text.decode())\n",
    "f.close()\n",
    "print(\"done\")"
   ]
  },
  {
   "cell_type": "code",
   "execution_count": null,
   "metadata": {},
   "outputs": [
    {
     "name": "stdout",
     "output_type": "stream",
     "text": [
      "inImgSize=872,371\n",
      "enhancedImgSize=1744,742\n",
      "Done\n"
     ]
    }
   ],
   "source": [
    "\"\"\"\n",
    "Image processing and OCR the image\n",
    "\"\"\"\n",
    "from PIL import Image\n",
    "import subprocess, os\n",
    "\n",
    "inImgName=\"/myCode/myGithub/Python/dockerJupyter/sampleTestData/SnapShot\"\n",
    "inImgFile=inImgName+'.png'\n",
    "rescaleFactor=2.0\n",
    "enhancedImgFile=inImgName+'_enhanced.png'\n",
    "recognizedFile=inImgName+'_enhanced' # tesseract will add .txt extention automatically\n",
    "\n",
    "img = Image.open(inImgFile)\n",
    "print('inImgSize='+str(img.size[0])+','+str(img.size[1]))\n",
    "\n",
    "img_resized = img.resize((int(img.size[0]*rescaleFactor), int(img.size[1]*rescaleFactor)), Image.ANTIALIAS)\n",
    "img_resized.save(enhancedImgFile, \"PNG\")\n",
    "print('enhancedImgSize='+str(img_resized.size[0])+','+str(img_resized.size[1]))\n",
    "\n",
    "subprocess.call(['tesseract', enhancedImgFile, recognizedFile,'-psm','4','-l','eng+chi_tra']) # 1st Best for code recognition\n",
    "\n",
    "print('Done')\n"
   ]
  },
  {
   "cell_type": "code",
   "execution_count": null,
   "metadata": {},
   "outputs": [],
   "source": []
  }
 ],
 "metadata": {
  "kernelspec": {
   "display_name": "Python 3",
   "language": "python",
   "name": "python3"
  },
  "language_info": {
   "codemirror_mode": {
    "name": "ipython",
    "version": 3
   },
   "file_extension": ".py",
   "mimetype": "text/x-python",
   "name": "python",
   "nbconvert_exporter": "python",
   "pygments_lexer": "ipython3",
   "version": "3.6.2"
  }
 },
 "nbformat": 4,
 "nbformat_minor": 2
}
