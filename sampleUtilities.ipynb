{
 "cells": [
  {
   "cell_type": "code",
   "execution_count": 32,
   "metadata": {},
   "outputs": [
    {
     "name": "stdout",
     "output_type": "stream",
     "text": [
      "{1: 'a', 2: 'b', 3: 'c'}\n",
      "b\n",
      "\n",
      "{4: 'd', 5: 'e', 6: 'f'}\n",
      "None\n",
      "\n",
      "{'key1': 'JS1', 'key2': 'JS2', 'key3': 'JS3'}\n",
      "JS2\n",
      "\n",
      "key1 exist\n",
      "Key5 not exit\n"
     ]
    }
   ],
   "source": [
    "\"\"\"\n",
    "字典 (dictionary) 型態 (type) 的 get() 方法 (method) ，從 dict 中取得 key 的 value ，若無此 key 則回傳 default ， default 預設為 None\n",
    "\"\"\"\n",
    "d1 = {1:\"a\", 2:\"b\", 3:\"c\"}\n",
    "print(d1)\n",
    "t1= d1.get(2)\n",
    "print(t1)\n",
    "print()\n",
    " \n",
    "d2 = {4:\"d\", 5:\"e\", 6:\"f\"}\n",
    "print(d2)\n",
    "t2 = d2.get(2)\n",
    "print(t2)\n",
    "print()\n",
    "\n",
    "d2 = {\"key1\":\"JS1\", \"key2\":\"JS2\", \"key3\":\"JS3\"}\n",
    "print(d2)\n",
    "t2 = d2.get(\"key2\")\n",
    "print(t2)\n",
    "print()\n",
    "\n",
    "\"\"\"\n",
    "檢查 Key 是否存在\n",
    "使用 get 函式。get 函式參數是 dict.get(key[, default_value])，其中 key 是要取得的 key，\n",
    "default_value 是如果 key 不存在時會回傳的值。\n",
    "\"\"\"\n",
    "if d2.get('key1', False)==False:\n",
    "    print(\"Key1 not exit\")\n",
    "else:\n",
    "    print(\"key1 exist\")\n",
    "    \n",
    "if d2.get('key5', False)==False:\n",
    "    print(\"Key5 not exit\")\n",
    "else:\n",
    "    print(\"key5 exist\")"
   ]
  },
  {
   "cell_type": "code",
   "execution_count": 2,
   "metadata": {},
   "outputs": [
    {
     "name": "stdout",
     "output_type": "stream",
     "text": [
      "2017-01-22 07:50:50\n",
      "2017-01-23 07:50:50\n",
      "difference is 86400.0 seconds\n"
     ]
    }
   ],
   "source": [
    "\"\"\"\n",
    "時間格式轉換,顯示 / 計算時間差\n",
    "\"\"\"\n",
    "import strict_rfc3339\n",
    "import time\n",
    "import datetime\n",
    "\n",
    "ts1 = strict_rfc3339.rfc3339_to_timestamp(\"2017-01-21T23:50:50Z\")\n",
    "print(datetime.datetime.fromtimestamp(ts1).strftime('%Y-%m-%d %H:%M:%S')) # datetime根據所在時區，顯示對應的時間\n",
    "ts2 = strict_rfc3339.rfc3339_to_timestamp(\"2017-01-22T23:50:50Z\")\n",
    "print(datetime.datetime.fromtimestamp(ts2).strftime('%Y-%m-%d %H:%M:%S')) # datetime根據所在時區，顯示對應的時間\n",
    "\n",
    "diff=(datetime.datetime.fromtimestamp(ts1) - datetime.datetime.fromtimestamp(ts2))\n",
    "print('difference is {0} seconds'.format(abs(diff.total_seconds())))\n"
   ]
  },
  {
   "cell_type": "code",
   "execution_count": 7,
   "metadata": {},
   "outputs": [
    {
     "name": "stdout",
     "output_type": "stream",
     "text": [
      "11834.43300496415\n",
      "[{'admin1': 'Taiwan', 'lat': '24.80361', 'admin2': 'Hsinchu', 'cc': 'TW', 'lon': '120.96861', 'name': 'Hsinchu'}, {'admin1': 'Kerala', 'lat': '9.93988', 'admin2': 'Ernakulam', 'cc': 'IN', 'lon': '76.26022', 'name': 'Cochin'}, {'admin1': 'California', 'lat': '37.38605', 'admin2': 'Santa Clara County', 'cc': 'US', 'lon': '-122.08385', 'name': 'Mountain View'}]\n",
      "No. 5, Lane 161, Dazhuang Rd, Xiangshan District, Hsinchu City, Taiwan 300\n"
     ]
    }
   ],
   "source": [
    "\"\"\"\n",
    "由經緯度計算距離，回傳地址\n",
    "\"\"\"\n",
    "from math import radians, cos, sin, asin, sqrt\n",
    "\n",
    "def haversine(lon1, lat1, lon2, lat2): # 经度1，纬度1，经度2，纬度2 （十进制度数）\n",
    "    \"\"\"\n",
    "    Calculate the great circle distance between two points \n",
    "    on the earth (specified in decimal degrees)\n",
    "    \"\"\"\n",
    "    # 将十进制度数转化为弧度\n",
    "    lon1, lat1, lon2, lat2 = map(radians, [lon1, lat1, lon2, lat2])\n",
    "\n",
    "    # haversine公式\n",
    "    dlon = lon2 - lon1 \n",
    "    dlat = lat2 - lat1 \n",
    "    a = sin(dlat/2)**2 + cos(lat1) * cos(lat2) * sin(dlon/2)**2\n",
    "    c = 2 * asin(sqrt(a)) \n",
    "    r = 6371 # 地球平均半径，单位为公里\n",
    "    return c * r * 1000 #回報單位為公尺\n",
    "\n",
    "print(haversine(120.92528379999999, 24.7924935, 120.901633, 24.688254))\n",
    "\n",
    "\n",
    "\"\"\"\n",
    "由 經緯度 回傳 住址 By reverse_geocoder ==> 可Offline使用，無次數的限制\n",
    "\"\"\"\n",
    "import reverse_geocoder as rg\n",
    "\n",
    "coordinates = (24.7925768, 120.92528379999999),(9.936033, 76.259952),(37.38605,-122.08385)\n",
    "\n",
    "results = rg.search(coordinates) # default mode = 2\n",
    "\n",
    "print(results)\n",
    "\n",
    "\n",
    "\"\"\"\n",
    "由 經緯度 回傳 住址 By Google API ==> 有使用次數的限制\n",
    "\"\"\"\n",
    "from geopy.geocoders import GoogleV3\n",
    "geolocator = GoogleV3()\n",
    "location = geolocator.reverse(\"24.7924935, 120.92528379999999\")\n",
    "print(location[0])\n",
    "\n",
    "\n"
   ]
  },
  {
   "cell_type": "code",
   "execution_count": 35,
   "metadata": {},
   "outputs": [
    {
     "name": "stdout",
     "output_type": "stream",
     "text": [
      "2011-02-03 15:24:59\n",
      "2014-07-24 01:19:01\n",
      "2011-02-03 15:24:59\n",
      "2013-02-18 16:35:41\n",
      "equal\n",
      "9999\n"
     ]
    }
   ],
   "source": [
    "\"\"\"\n",
    "取得照片的拍照日期\n",
    "\"\"\"\n",
    "import exifread\n",
    "from datetime import datetime\n",
    "\n",
    "tags = exifread.process_file(open(\"D:/Temp/google 相簿 test/IMG_5156.jpg\", \"rb\"))\n",
    "takenDate = tags['EXIF DateTimeOriginal']\n",
    "dt = datetime.strptime(str(takenDate), \"%Y:%m:%d %H:%M:%S\")\n",
    "print(dt)\n",
    "tags1 = exifread.process_file(open(\"D:/Temp/原始相簿的結果/IMG_5156_js0.jpg\", \"rb\"))\n",
    "takenDate1 = tags1['EXIF DateTimeOriginal']\n",
    "dt1 = datetime.strptime(str(takenDate1), \"%Y:%m:%d %H:%M:%S\")\n",
    "print(dt1)\n",
    "tags2 = exifread.process_file(open(\"D:/Temp/原始相簿的結果/IMG_5156_js1.jpg\", \"rb\"))\n",
    "takenDate2 = tags2['EXIF DateTimeOriginal']\n",
    "dt2 = datetime.strptime(str(takenDate2), \"%Y:%m:%d %H:%M:%S\")\n",
    "print(dt2)\n",
    "tags3 = exifread.process_file(open(\"D:/Temp/原始相簿的結果/IMG_5156_js2.jpg\", \"rb\"))\n",
    "takenDate3 = tags3['EXIF DateTimeOriginal']\n",
    "dt3 = datetime.strptime(str(takenDate3), \"%Y:%m:%d %H:%M:%S\")\n",
    "print(dt3)\n",
    "\n",
    "if (dt==dt2):\n",
    "    print(\"equal\")\n",
    "else:\n",
    "    print(\"not equal\")\n",
    "\n",
    "tags = exifread.process_file(open(\"D:/Temp/google 相簿 test/2002暑假香港之旅 061.jpg\", \"rb\"))\n",
    "dt = \"9999\"\n",
    "if (tags.get('EXIF DateTimeOriginal', False)!=False):\n",
    "    takenDate = tags['EXIF DateTimeOriginal']\n",
    "    dt = datetime.strptime(str(takenDate), \"%Y:%m:%d %H:%M:%S\")\n",
    "print(dt)\n"
   ]
  },
  {
   "cell_type": "code",
   "execution_count": 46,
   "metadata": {},
   "outputs": [
    {
     "name": "stdout",
     "output_type": "stream",
     "text": [
      "b'\\xadHOr~\\xc4+\\x1b\\xe97\\xb5\\xc7p\\xa6\\x06^k\\xf8n+\\xa8\\xc2<\\x92Av#\\x1d\\x9e\\xcd$\\x1dg+\\x90O.:'\n"
     ]
    }
   ],
   "source": [
    "\"\"\"\n",
    "加密\n",
    "\"\"\"\n",
    "from Crypto.Cipher import AES\n",
    "myKey='This is a key123'\n",
    "myIV='This is an IV456'\n",
    "\n",
    "obj = AES.new(myKey, AES.MODE_CFB, myIV)\n",
    "\n",
    "# Use \"\"\" \"\"\" for multiple line string\n",
    "message = \"\"\" \n",
    "    Hi, \n",
    "        This is my test :)\n",
    "\"\"\"\n",
    "\n",
    "ciphertext = obj.encrypt(message)\n",
    "print(ciphertext)"
   ]
  },
  {
   "cell_type": "code",
   "execution_count": 47,
   "metadata": {},
   "outputs": [
    {
     "name": "stdout",
     "output_type": "stream",
     "text": [
      "b' \\n    Hi, \\n        This is my test :)\\n'\n",
      " \n",
      "    Hi, \n",
      "        This is my test :)\n",
      "\n"
     ]
    }
   ],
   "source": [
    "\"\"\"\n",
    "解密\n",
    "\"\"\"\n",
    "from Crypto.Cipher import AES\n",
    "myKey='This is a key123'\n",
    "myIV='This is an IV456'\n",
    "\n",
    "ciphertext = b'\\xadHOr~\\xc4+\\x1b\\xe97\\xb5\\xc7p\\xa6\\x06^k\\xf8n+\\xa8\\xc2<\\x92Av#\\x1d\\x9e\\xcd$\\x1dg+\\x90O.:'\n",
    "\n",
    "obj2 = AES.new(myKey, AES.MODE_CFB, myIV)\n",
    "deciphertext = obj2.decrypt(ciphertext)\n",
    "print(deciphertext)\n",
    "# Convert binary string to ascii\n",
    "print(deciphertext.decode('ascii'))"
   ]
  },
  {
   "cell_type": "code",
   "execution_count": 9,
   "metadata": {},
   "outputs": [
    {
     "name": "stdout",
     "output_type": "stream",
     "text": [
      "done\n"
     ]
    }
   ],
   "source": [
    "# Tar 解壓縮\n",
    "# Reference link\n",
    "# https://docs.python.org/3/library/tarfile.html\n",
    "# https://www.programcreek.com/python/example/44180/tarfile.extractall\n",
    "import os\n",
    "import os.path\n",
    "import tarfile\n",
    "tar = tarfile.open(\"D:/Temp/Python/textract-1.6.1.tar.gz\")\n",
    "target_path = os.path.join(\"textract-1.6.1\", \"D:/Temp/Python/\")\n",
    "tar.extractall(target_path)\n",
    "tar.close()\n",
    "print(\"done\")"
   ]
  },
  {
   "cell_type": "code",
   "execution_count": null,
   "metadata": {
    "collapsed": true
   },
   "outputs": [],
   "source": []
  }
 ],
 "metadata": {
  "kernelspec": {
   "display_name": "Python 3",
   "language": "python",
   "name": "python3"
  },
  "language_info": {
   "codemirror_mode": {
    "name": "ipython",
    "version": 3
   },
   "file_extension": ".py",
   "mimetype": "text/x-python",
   "name": "python",
   "nbconvert_exporter": "python",
   "pygments_lexer": "ipython3",
   "version": "3.6.2"
  }
 },
 "nbformat": 4,
 "nbformat_minor": 1
}
